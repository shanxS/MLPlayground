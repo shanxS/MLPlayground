{
  "nbformat": 4,
  "nbformat_minor": 0,
  "metadata": {
    "colab": {
      "provenance": [],
      "authorship_tag": "ABX9TyNwuW1JRDbWXC0+3eNaIRkc",
      "include_colab_link": true
    },
    "kernelspec": {
      "name": "python3",
      "display_name": "Python 3"
    },
    "language_info": {
      "name": "python"
    }
  },
  "cells": [
    {
      "cell_type": "markdown",
      "metadata": {
        "id": "view-in-github",
        "colab_type": "text"
      },
      "source": [
        "<a href=\"https://colab.research.google.com/github/shanxS/MLPlayground/blob/main/gpt_dev_0_01_play.ipynb\" target=\"_parent\"><img src=\"https://colab.research.google.com/assets/colab-badge.svg\" alt=\"Open In Colab\"/></a>"
      ]
    },
    {
      "cell_type": "markdown",
      "source": [
        "# Bigram setup"
      ],
      "metadata": {
        "id": "SfwMvn0ePgA3"
      }
    },
    {
      "cell_type": "code",
      "execution_count": 1,
      "metadata": {
        "colab": {
          "base_uri": "https://localhost:8080/"
        },
        "id": "se3CySCse7d3",
        "outputId": "f2a2ce3e-6333-479a-b3bd-0a20238d2812"
      },
      "outputs": [
        {
          "output_type": "stream",
          "name": "stdout",
          "text": [
            "--2023-05-10 02:30:06--  https://raw.githubusercontent.com/karpathy/char-rnn/master/data/tinyshakespeare/input.txt\n",
            "Resolving raw.githubusercontent.com (raw.githubusercontent.com)... 185.199.108.133, 185.199.109.133, 185.199.110.133, ...\n",
            "Connecting to raw.githubusercontent.com (raw.githubusercontent.com)|185.199.108.133|:443... connected.\n",
            "HTTP request sent, awaiting response... 200 OK\n",
            "Length: 1115394 (1.1M) [text/plain]\n",
            "Saving to: ‘input.txt’\n",
            "\n",
            "input.txt           100%[===================>]   1.06M  --.-KB/s    in 0.05s   \n",
            "\n",
            "2023-05-10 02:30:07 (20.4 MB/s) - ‘input.txt’ saved [1115394/1115394]\n",
            "\n",
            "First Citizen:\n",
            "Before we proceed any further, hear me speak.\n",
            "\n",
            "All:\n",
            "Speak, speak.\n",
            "\n",
            "First Citizen:\n",
            "You are all resolved rather to die than to famish?\n",
            "\n",
            "All:\n",
            "Resolved. resolved.\n",
            "\n",
            "First Citizen:\n",
            "First, you know Caius Marcius is chief enemy to the people.\n",
            "\n",
            "All:\n",
            "We know't, we know't.\n",
            "\n",
            "First Citizen:\n",
            "Let us kill him, and we'll have corn at our own price.\n",
            "Is't a verdict?\n",
            "\n",
            "All:\n",
            "No more talking on't; let it be done: away, away!\n",
            "\n",
            "Second Citizen:\n",
            "One word, good citizens.\n",
            "\n",
            "First Citizen:\n",
            "We are accounted poor citizens, the patricians good.\n",
            "What authority surfeits on would relieve us: if they\n",
            "would yield us but the superfluity, while it were\n",
            "wholesome, we might guess they relieved us humanely;\n",
            "but they think we are too dear: the leanness that\n",
            "afflicts us, the object of our misery, is as an\n",
            "inventory to particularise their abundance; our\n",
            "sufferance is a gain to them Let us revenge this with\n",
            "our pikes, ere we become rakes: for the gods know I\n",
            "speak this in hunger for bread, not in thirst for revenge.\n",
            "\n",
            "\n"
          ]
        }
      ],
      "source": [
        "!wget https://raw.githubusercontent.com/karpathy/char-rnn/master/data/tinyshakespeare/input.txt\n",
        "# read it in to inspect it\n",
        "with open('input.txt', 'r', encoding='utf-8') as f:\n",
        "    text = f.read()\n",
        "\n",
        "print(text[:1000])"
      ]
    },
    {
      "cell_type": "code",
      "source": [
        "chars = sorted(list(set(''.join(text))))\n",
        "vocab_size = len(chars)"
      ],
      "metadata": {
        "id": "GbOc6fj6fdOb"
      },
      "execution_count": 2,
      "outputs": []
    },
    {
      "cell_type": "code",
      "source": [
        "''.join(chars)"
      ],
      "metadata": {
        "colab": {
          "base_uri": "https://localhost:8080/",
          "height": 35
        },
        "id": "IrY9b-qAf1vg",
        "outputId": "d1123a37-14e9-4756-cf35-54d5e9f50132"
      },
      "execution_count": 3,
      "outputs": [
        {
          "output_type": "execute_result",
          "data": {
            "text/plain": [
              "\"\\n !$&',-.3:;?ABCDEFGHIJKLMNOPQRSTUVWXYZabcdefghijklmnopqrstuvwxyz\""
            ],
            "application/vnd.google.colaboratory.intrinsic+json": {
              "type": "string"
            }
          },
          "metadata": {},
          "execution_count": 3
        }
      ]
    },
    {
      "cell_type": "code",
      "source": [
        "stoi = {s:i for i,s in enumerate(chars)}\n",
        "itos = {i:s for s,i in stoi.items()}\n",
        "encode = lambda s: [stoi[c] for c in s]\n",
        "decode = lambda l: ''.join([itos[i] for i in l])"
      ],
      "metadata": {
        "id": "z-zGH7ghgTwn"
      },
      "execution_count": 4,
      "outputs": []
    },
    {
      "cell_type": "code",
      "source": [
        "import torch\n",
        "data = torch.tensor(encode(text))"
      ],
      "metadata": {
        "id": "2VWW8Eq3gzQs"
      },
      "execution_count": 5,
      "outputs": []
    },
    {
      "cell_type": "code",
      "source": [
        "n = int(0.9*len(data))\n",
        "train_data = data[:n]\n",
        "val_data = data[n:]"
      ],
      "metadata": {
        "id": "699bVyGNhQqy"
      },
      "execution_count": 6,
      "outputs": []
    },
    {
      "cell_type": "code",
      "source": [
        "block_size = 8\n",
        "\n",
        "x = train_data[:block_size]\n",
        "y = train_data[1:block_size+1]\n",
        "print(x,y)\n",
        "for i in range(block_size):\n",
        "  context = x[:i+1]\n",
        "  output = y[i]\n",
        "  print(f'{context = } {output = } ')"
      ],
      "metadata": {
        "colab": {
          "base_uri": "https://localhost:8080/"
        },
        "id": "0Sisf4LujvEZ",
        "outputId": "e5b17b77-5e16-4e13-e8c7-64c11c1883d9"
      },
      "execution_count": 7,
      "outputs": [
        {
          "output_type": "stream",
          "name": "stdout",
          "text": [
            "tensor([18, 47, 56, 57, 58,  1, 15, 47]) tensor([47, 56, 57, 58,  1, 15, 47, 58])\n",
            "context = tensor([18]) output = tensor(47) \n",
            "context = tensor([18, 47]) output = tensor(56) \n",
            "context = tensor([18, 47, 56]) output = tensor(57) \n",
            "context = tensor([18, 47, 56, 57]) output = tensor(58) \n",
            "context = tensor([18, 47, 56, 57, 58]) output = tensor(1) \n",
            "context = tensor([18, 47, 56, 57, 58,  1]) output = tensor(15) \n",
            "context = tensor([18, 47, 56, 57, 58,  1, 15]) output = tensor(47) \n",
            "context = tensor([18, 47, 56, 57, 58,  1, 15, 47]) output = tensor(58) \n"
          ]
        }
      ]
    },
    {
      "cell_type": "code",
      "source": [
        "torch.manual_seed(1337)\n",
        "batch_size = 4\n",
        "block_size = 8\n",
        "\n",
        "def get_batch(split):\n",
        "  data = train_data if split == 'train' else val_data\n",
        "  ix = torch.randint(len(data)-block_size, (batch_size,))\n",
        "  x = torch.stack( [data[i: i+block_size] for i in ix] )\n",
        "  y = torch.stack( [data[i+1:i+block_size+1] for i in ix] )\n",
        "  return x, y\n",
        "\n",
        "xb, yb = get_batch(\"train\")\n",
        "print(xb.shape, yb.shape)\n",
        "print(f'{xb=} \\n {yb=}')\n",
        "\n",
        "for b in range(batch_size):\n",
        "  for t in range(block_size):\n",
        "    context = xb[b, :t+1]\n",
        "    target = yb[b, t]\n",
        "    print(f'{context = }  {target = }')"
      ],
      "metadata": {
        "colab": {
          "base_uri": "https://localhost:8080/"
        },
        "id": "vWTesTYDkLaI",
        "outputId": "f602ac78-a1d3-4b19-df10-5dc7627f63cf"
      },
      "execution_count": 8,
      "outputs": [
        {
          "output_type": "stream",
          "name": "stdout",
          "text": [
            "torch.Size([4, 8]) torch.Size([4, 8])\n",
            "xb=tensor([[24, 43, 58,  5, 57,  1, 46, 43],\n",
            "        [44, 53, 56,  1, 58, 46, 39, 58],\n",
            "        [52, 58,  1, 58, 46, 39, 58,  1],\n",
            "        [25, 17, 27, 10,  0, 21,  1, 54]]) \n",
            " yb=tensor([[43, 58,  5, 57,  1, 46, 43, 39],\n",
            "        [53, 56,  1, 58, 46, 39, 58,  1],\n",
            "        [58,  1, 58, 46, 39, 58,  1, 46],\n",
            "        [17, 27, 10,  0, 21,  1, 54, 39]])\n",
            "context = tensor([24])  target = tensor(43)\n",
            "context = tensor([24, 43])  target = tensor(58)\n",
            "context = tensor([24, 43, 58])  target = tensor(5)\n",
            "context = tensor([24, 43, 58,  5])  target = tensor(57)\n",
            "context = tensor([24, 43, 58,  5, 57])  target = tensor(1)\n",
            "context = tensor([24, 43, 58,  5, 57,  1])  target = tensor(46)\n",
            "context = tensor([24, 43, 58,  5, 57,  1, 46])  target = tensor(43)\n",
            "context = tensor([24, 43, 58,  5, 57,  1, 46, 43])  target = tensor(39)\n",
            "context = tensor([44])  target = tensor(53)\n",
            "context = tensor([44, 53])  target = tensor(56)\n",
            "context = tensor([44, 53, 56])  target = tensor(1)\n",
            "context = tensor([44, 53, 56,  1])  target = tensor(58)\n",
            "context = tensor([44, 53, 56,  1, 58])  target = tensor(46)\n",
            "context = tensor([44, 53, 56,  1, 58, 46])  target = tensor(39)\n",
            "context = tensor([44, 53, 56,  1, 58, 46, 39])  target = tensor(58)\n",
            "context = tensor([44, 53, 56,  1, 58, 46, 39, 58])  target = tensor(1)\n",
            "context = tensor([52])  target = tensor(58)\n",
            "context = tensor([52, 58])  target = tensor(1)\n",
            "context = tensor([52, 58,  1])  target = tensor(58)\n",
            "context = tensor([52, 58,  1, 58])  target = tensor(46)\n",
            "context = tensor([52, 58,  1, 58, 46])  target = tensor(39)\n",
            "context = tensor([52, 58,  1, 58, 46, 39])  target = tensor(58)\n",
            "context = tensor([52, 58,  1, 58, 46, 39, 58])  target = tensor(1)\n",
            "context = tensor([52, 58,  1, 58, 46, 39, 58,  1])  target = tensor(46)\n",
            "context = tensor([25])  target = tensor(17)\n",
            "context = tensor([25, 17])  target = tensor(27)\n",
            "context = tensor([25, 17, 27])  target = tensor(10)\n",
            "context = tensor([25, 17, 27, 10])  target = tensor(0)\n",
            "context = tensor([25, 17, 27, 10,  0])  target = tensor(21)\n",
            "context = tensor([25, 17, 27, 10,  0, 21])  target = tensor(1)\n",
            "context = tensor([25, 17, 27, 10,  0, 21,  1])  target = tensor(54)\n",
            "context = tensor([25, 17, 27, 10,  0, 21,  1, 54])  target = tensor(39)\n"
          ]
        }
      ]
    },
    {
      "cell_type": "code",
      "source": [
        "import torch\n",
        "import torch.nn as nn\n",
        "from torch.nn import functional as F\n",
        "torch.manual_seed(1337)\n",
        "\n",
        "class BigramLangugageModel(nn.Module):\n",
        "\n",
        "  def __init__(self, vocab_size):\n",
        "    super().__init__()\n",
        "    '''\n",
        "    1st argument is size of dict\n",
        "    2nd argument is size of embedding for each input token\n",
        "    So the dim is vocab_size x C, where C is Channel\n",
        "    '''\n",
        "    self.token_embedding_table = nn.Embedding(vocab_size, vocab_size)\n",
        "\n",
        "  def forward(self, input, target = None):\n",
        "    '''\n",
        "    This is the output. Literally just dot product of input (B x T) and embedding table (vocab_size x channel) to get embedding\n",
        "    I think it internally converts input into one hot encoding of size (B x T x vocab_size)\n",
        "    B: number of inputs\n",
        "    T: size of each input\n",
        "    C: channel\n",
        "    '''\n",
        "    # print(input)\n",
        "    # print(target)\n",
        "    \n",
        "    logits = self.token_embedding_table(input) # (B x T x C)\n",
        "\n",
        "    if target is None:\n",
        "      loss = None\n",
        "    else:\n",
        "      B, T, C = logits.shape\n",
        "      logits = logits.view(B*T, C)\n",
        "      target = target.view(B*T)\n",
        "      loss = F.cross_entropy(logits, target)\n",
        "\n",
        "    return logits, loss\n",
        "\n",
        "  def generate(self, idx, max_new_tokens):\n",
        "    for _ in range(max_new_tokens):\n",
        "      logits, _ = self(idx)\n",
        "      logits = logits[:, -1, :] # I dont understand why last index is predicted token\n",
        "      logits = logits.exp()\n",
        "      prob = logits / logits.sum(1, keepdims = True)\n",
        "      idx_next = torch.multinomial(prob, num_samples=1, replacement=True)\n",
        "      idx = torch.cat((idx, idx_next), dim =1)\n",
        "    return idx\n",
        "\n",
        "\n",
        "m = BigramLangugageModel(vocab_size)\n",
        "# logits, loss = m(xb, yb)"
      ],
      "metadata": {
        "id": "aRtNmCBlstxU"
      },
      "execution_count": 9,
      "outputs": []
    },
    {
      "cell_type": "code",
      "source": [
        "print(decode(m.generate(torch.zeros((1,1), dtype = torch.long), max_new_tokens = 100)[0].tolist()))"
      ],
      "metadata": {
        "colab": {
          "base_uri": "https://localhost:8080/"
        },
        "id": "6UcXquLCsuEK",
        "outputId": "0d424d4c-72db-4323-ab20-6c6853b5cd7b"
      },
      "execution_count": 10,
      "outputs": [
        {
          "output_type": "stream",
          "name": "stdout",
          "text": [
            "\n",
            "Sr?qP-QWktXoL&jLDJgOLVz'RIoDqHdhsV&vLLxatjscMpwLERSPyao.qfzs$Ys$zF-w,;eEkzxjgCKFChs!iWW.ObzDnxA Ms$3\n"
          ]
        }
      ]
    },
    {
      "cell_type": "code",
      "source": [
        "optimizer = torch.optim.AdamW(m.parameters(), lr=1e-3)"
      ],
      "metadata": {
        "id": "0ZffeXz5xwjK"
      },
      "execution_count": 11,
      "outputs": []
    },
    {
      "cell_type": "code",
      "source": [
        "batch_size = 32\n",
        "for steps in range(10000):\n",
        "  xb, yb = get_batch('train')\n",
        "  logits, loss = m(xb, yb)\n",
        "  loss.backward()\n",
        "  optimizer.step()\n",
        "\n",
        "print(loss)"
      ],
      "metadata": {
        "colab": {
          "base_uri": "https://localhost:8080/"
        },
        "id": "_VIkgXSUyDTB",
        "outputId": "3d56f7c2-26b8-4466-b0af-5ee7b6910142"
      },
      "execution_count": 12,
      "outputs": [
        {
          "output_type": "stream",
          "name": "stdout",
          "text": [
            "tensor(2.7662, grad_fn=<NllLossBackward0>)\n"
          ]
        }
      ]
    },
    {
      "cell_type": "code",
      "source": [
        "print(decode(m.generate(torch.zeros((1,1), dtype = torch.long), max_new_tokens = 400)[0].tolist()))"
      ],
      "metadata": {
        "colab": {
          "base_uri": "https://localhost:8080/"
        },
        "id": "EqrAzP-UVou-",
        "outputId": "31c0690f-8020-4f84-ad8d-90f6738ca3fb"
      },
      "execution_count": 13,
      "outputs": [
        {
          "output_type": "stream",
          "name": "stdout",
          "text": [
            "\n",
            "I oteng h hasbe pave pirance\n",
            "RDe hicomyonthar's\n",
            "PES:\n",
            "ARod ith heno hatucenonthioneir thondy, y heltieiengerofuresssit ey\n",
            "KIN d pe wither vouprrouthers nowl t,\n",
            "K:\n",
            "\n",
            "My hind thid pig t ouchos tes; st yo hind wotin grotonear 'so it t jod weancothanan hay. t le n frids, r loncave w hollular s O:\n",
            "HIs; ht anje caike ineent.\n",
            "\n",
            "Lavinde.\n",
            "athave l.\n",
            "KEONGBUThandspo be y,-hedarwnod y scar t aridesar, fre'shenou\n"
          ]
        }
      ]
    },
    {
      "cell_type": "markdown",
      "source": [
        "# Self attention"
      ],
      "metadata": {
        "id": "8ishJcZcPYvt"
      }
    },
    {
      "cell_type": "code",
      "source": [
        "torch.manual_seed(1337)\n",
        "B,T,C = 8,4,2\n",
        "x = torch.randn(B,T,C) # logits after we send input into embedding layer"
      ],
      "metadata": {
        "id": "NVQZ60PkvyBd"
      },
      "execution_count": 14,
      "outputs": []
    },
    {
      "cell_type": "markdown",
      "source": [
        "### approach 1: manually average past tokens"
      ],
      "metadata": {
        "id": "_B1GbkkW2aSg"
      }
    },
    {
      "cell_type": "code",
      "source": [
        "xbow = torch.zeros((B,T,C))\n",
        "for b in range(B):\n",
        "  for t in range(T):\n",
        "    xprev = x[b, :t+1] # t+1 to include current token\n",
        "    xbow[b, t] = torch.mean(xprev, 0) # mean along rows, keeping col const\n",
        "\n",
        "print(x[0])\n",
        "print(xbow[0])"
      ],
      "metadata": {
        "colab": {
          "base_uri": "https://localhost:8080/"
        },
        "id": "bASwXZqZzw0s",
        "outputId": "7fea3217-d07d-450d-e6b5-ec43f0fcf03e"
      },
      "execution_count": 15,
      "outputs": [
        {
          "output_type": "stream",
          "name": "stdout",
          "text": [
            "tensor([[ 0.1808, -0.0700],\n",
            "        [-0.3596, -0.9152],\n",
            "        [ 0.6258,  0.0255],\n",
            "        [ 0.9545,  0.0643]])\n",
            "tensor([[ 0.1808, -0.0700],\n",
            "        [-0.0894, -0.4926],\n",
            "        [ 0.1490, -0.3199],\n",
            "        [ 0.3504, -0.2238]])\n"
          ]
        }
      ]
    },
    {
      "cell_type": "markdown",
      "source": [
        "### approach 2: matrix multiplication"
      ],
      "metadata": {
        "id": "yoZ-x2l22gt-"
      }
    },
    {
      "cell_type": "code",
      "source": [
        "# to being with, lets keep math simple we'll stick to 2D\n",
        "tmp = torch.tril(torch.ones(3,3)) # this helps with summing across rows, keeping col const\n",
        "tmp = tmp / tmp.sum(dim=1, keepdims=True) # this helps with average\n",
        "xtmp = torch.randint(0,10,(3,2)).float()\n",
        "print(f'{xtmp = } \\n {tmp = } \\n {tmp@xtmp = }')"
      ],
      "metadata": {
        "colab": {
          "base_uri": "https://localhost:8080/"
        },
        "id": "ktCBc1BX14IJ",
        "outputId": "a88dc266-e133-4e99-dc94-1822fbe61689"
      },
      "execution_count": 16,
      "outputs": [
        {
          "output_type": "stream",
          "name": "stdout",
          "text": [
            "xtmp = tensor([[8., 6.],\n",
            "        [5., 2.],\n",
            "        [4., 4.]]) \n",
            " tmp = tensor([[1.0000, 0.0000, 0.0000],\n",
            "        [0.5000, 0.5000, 0.0000],\n",
            "        [0.3333, 0.3333, 0.3333]]) \n",
            " tmp@xtmp = tensor([[8.0000, 6.0000],\n",
            "        [6.5000, 4.0000],\n",
            "        [5.6667, 4.0000]])\n"
          ]
        }
      ]
    },
    {
      "cell_type": "code",
      "source": [
        "# final version\n",
        "wei = torch.tril(torch.ones(T,T))\n",
        "wei = wei / wei.sum(dim = 1, keepdims = True)\n",
        "print(f'{wei.shape=}')\n",
        "\n",
        "xbow2 = wei @ x # note that wei does not have Batch dim but this works anyway\n",
        "print(f'{x[0]=} \\n {xbow2[0]=}')\n",
        "torch.allclose(xbow, xbow2)"
      ],
      "metadata": {
        "colab": {
          "base_uri": "https://localhost:8080/"
        },
        "id": "nzGZhZRO3z-c",
        "outputId": "3e98132d-6783-4df4-db4c-70ff9a4ed437"
      },
      "execution_count": 17,
      "outputs": [
        {
          "output_type": "stream",
          "name": "stdout",
          "text": [
            "wei.shape=torch.Size([4, 4])\n",
            "x[0]=tensor([[ 0.1808, -0.0700],\n",
            "        [-0.3596, -0.9152],\n",
            "        [ 0.6258,  0.0255],\n",
            "        [ 0.9545,  0.0643]]) \n",
            " xbow2[0]=tensor([[ 0.1808, -0.0700],\n",
            "        [-0.0894, -0.4926],\n",
            "        [ 0.1490, -0.3199],\n",
            "        [ 0.3504, -0.2238]])\n"
          ]
        },
        {
          "output_type": "execute_result",
          "data": {
            "text/plain": [
              "True"
            ]
          },
          "metadata": {},
          "execution_count": 17
        }
      ]
    },
    {
      "cell_type": "markdown",
      "source": [
        "### approach 3: using softmax"
      ],
      "metadata": {
        "id": "V90OEeZ8_6L4"
      }
    },
    {
      "cell_type": "code",
      "source": [
        "tril = torch.tril(torch.ones(T,T))\n",
        "wei = torch.zeros(T,T) # matrix that will eventually decide which part of history impacts a given token most\n",
        "wei = wei.masked_fill(tril == 0, float('-inf')) # enforces that nothing is read from future\n",
        "wei = torch.softmax(wei, dim=-1) # averages all cols of a row\n",
        "xbow3 = wei @ x\n",
        "torch.allclose(xbow, xbow3)"
      ],
      "metadata": {
        "colab": {
          "base_uri": "https://localhost:8080/"
        },
        "id": "tzUzyAIo9-tS",
        "outputId": "546a2596-2e7f-4e6a-cf97-c87738cc54e2"
      },
      "execution_count": 18,
      "outputs": [
        {
          "output_type": "execute_result",
          "data": {
            "text/plain": [
              "True"
            ]
          },
          "metadata": {},
          "execution_count": 18
        }
      ]
    },
    {
      "cell_type": "markdown",
      "source": [
        "### approach 4: self attention"
      ],
      "metadata": {
        "id": "CFtlltM3diNj"
      }
    },
    {
      "cell_type": "code",
      "source": [
        "torch.manual_seed(1337)\n",
        "B,T,C = 4,8,32\n",
        "x = torch.randn(B,T,C)\n",
        "\n",
        "# single head of self-attention\n",
        "head_size = 16\n",
        "key = nn.Linear(C, head_size, bias=False)\n",
        "query = nn.Linear(C, head_size, bias=False)\n",
        "value = nn.Linear(C, head_size, bias=False)\n",
        "'''\n",
        "For a given token here's what these matrices convey:\n",
        "k: here's what I am\n",
        "q: here's what I need\n",
        "v: If you find me interesting, I'll contribute this\n",
        "'''\n",
        "k = key(x)   # B x T x head_size\n",
        "q = query(x) # B x T x head_size\n",
        "v = value(x)\n",
        "'''\n",
        "This is self attention b/c, key, query & value are coming from same set of tokens\n",
        "In case of cross attention, key & value come from different set of token than query\n",
        "'''\n",
        "\n",
        "tril = torch.tril(torch.ones(T,T))\n",
        "\n",
        "#wei = torch.zeros(T,T) # matrix that will eventually decide which part of history impacts a given token most\n",
        "wei = q @ k.transpose(-2, -1) # (B x T x head_size) @ (B x head_size x T) -----> B x T x T\n",
        "\n",
        "wei = wei.masked_fill(tril == 0, float('-inf')) # enforces that nothing is read from future\n",
        "wei = torch.softmax(wei, dim=-1) # averages all cols of a row\n",
        "\n",
        "# out = wei @ x\n",
        "out = wei @ v # dim of out are not same as wei @ x\n",
        "\n",
        "out.shape"
      ],
      "metadata": {
        "colab": {
          "base_uri": "https://localhost:8080/"
        },
        "id": "Rb8faBnmBrKR",
        "outputId": "2b34e906-29a0-4c65-ad93-0c86905751db"
      },
      "execution_count": 30,
      "outputs": [
        {
          "output_type": "execute_result",
          "data": {
            "text/plain": [
              "torch.Size([4, 8, 16])"
            ]
          },
          "metadata": {},
          "execution_count": 30
        }
      ]
    },
    {
      "cell_type": "code",
      "source": [
        "wei[0]"
      ],
      "metadata": {
        "colab": {
          "base_uri": "https://localhost:8080/"
        },
        "id": "F5M8xViCfhpF",
        "outputId": "697b5fb1-2a38-45a9-b26a-b748d525d472"
      },
      "execution_count": 31,
      "outputs": [
        {
          "output_type": "execute_result",
          "data": {
            "text/plain": [
              "tensor([[1.0000, 0.0000, 0.0000, 0.0000, 0.0000, 0.0000, 0.0000, 0.0000],\n",
              "        [0.1574, 0.8426, 0.0000, 0.0000, 0.0000, 0.0000, 0.0000, 0.0000],\n",
              "        [0.2088, 0.1646, 0.6266, 0.0000, 0.0000, 0.0000, 0.0000, 0.0000],\n",
              "        [0.5792, 0.1187, 0.1889, 0.1131, 0.0000, 0.0000, 0.0000, 0.0000],\n",
              "        [0.0294, 0.1052, 0.0469, 0.0276, 0.7909, 0.0000, 0.0000, 0.0000],\n",
              "        [0.0176, 0.2689, 0.0215, 0.0089, 0.6812, 0.0019, 0.0000, 0.0000],\n",
              "        [0.1691, 0.4066, 0.0438, 0.0416, 0.1048, 0.2012, 0.0329, 0.0000],\n",
              "        [0.0210, 0.0843, 0.0555, 0.2297, 0.0573, 0.0709, 0.2423, 0.2391]],\n",
              "       grad_fn=<SelectBackward0>)"
            ]
          },
          "metadata": {},
          "execution_count": 31
        }
      ]
    },
    {
      "cell_type": "code",
      "source": [],
      "metadata": {
        "id": "W0_Xd8vFg4kt"
      },
      "execution_count": null,
      "outputs": []
    }
  ]
}