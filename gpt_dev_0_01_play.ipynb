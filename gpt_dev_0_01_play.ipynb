{
  "nbformat": 4,
  "nbformat_minor": 0,
  "metadata": {
    "colab": {
      "provenance": [],
      "authorship_tag": "ABX9TyMZQdwZ9fpUJRCb+rMTxazn",
      "include_colab_link": true
    },
    "kernelspec": {
      "name": "python3",
      "display_name": "Python 3"
    },
    "language_info": {
      "name": "python"
    }
  },
  "cells": [
    {
      "cell_type": "markdown",
      "metadata": {
        "id": "view-in-github",
        "colab_type": "text"
      },
      "source": [
        "<a href=\"https://colab.research.google.com/github/shanxS/MLPlayground/blob/main/gpt_dev_0_01_play.ipynb\" target=\"_parent\"><img src=\"https://colab.research.google.com/assets/colab-badge.svg\" alt=\"Open In Colab\"/></a>"
      ]
    },
    {
      "cell_type": "code",
      "execution_count": 21,
      "metadata": {
        "colab": {
          "base_uri": "https://localhost:8080/"
        },
        "id": "se3CySCse7d3",
        "outputId": "7cbf8f68-d24e-4adf-ae76-e93de4c2d3d7"
      },
      "outputs": [
        {
          "output_type": "stream",
          "name": "stdout",
          "text": [
            "--2023-05-09 04:23:52--  https://raw.githubusercontent.com/karpathy/char-rnn/master/data/tinyshakespeare/input.txt\n",
            "Resolving raw.githubusercontent.com (raw.githubusercontent.com)... 185.199.111.133, 185.199.108.133, 185.199.110.133, ...\n",
            "Connecting to raw.githubusercontent.com (raw.githubusercontent.com)|185.199.111.133|:443... connected.\n",
            "HTTP request sent, awaiting response... 200 OK\n",
            "Length: 1115394 (1.1M) [text/plain]\n",
            "Saving to: ‘input.txt’\n",
            "\n",
            "\rinput.txt             0%[                    ]       0  --.-KB/s               \rinput.txt           100%[===================>]   1.06M  --.-KB/s    in 0.009s  \n",
            "\n",
            "2023-05-09 04:23:52 (114 MB/s) - ‘input.txt’ saved [1115394/1115394]\n",
            "\n",
            "First Citizen:\n",
            "Before we proceed any further, hear me speak.\n",
            "\n",
            "All:\n",
            "Speak, speak.\n",
            "\n",
            "First Citizen:\n",
            "You are all resolved rather to die than to famish?\n",
            "\n",
            "All:\n",
            "Resolved. resolved.\n",
            "\n",
            "First Citizen:\n",
            "First, you know Caius Marcius is chief enemy to the people.\n",
            "\n",
            "All:\n",
            "We know't, we know't.\n",
            "\n",
            "First Citizen:\n",
            "Let us kill him, and we'll have corn at our own price.\n",
            "Is't a verdict?\n",
            "\n",
            "All:\n",
            "No more talking on't; let it be done: away, away!\n",
            "\n",
            "Second Citizen:\n",
            "One word, good citizens.\n",
            "\n",
            "First Citizen:\n",
            "We are accounted poor citizens, the patricians good.\n",
            "What authority surfeits on would relieve us: if they\n",
            "would yield us but the superfluity, while it were\n",
            "wholesome, we might guess they relieved us humanely;\n",
            "but they think we are too dear: the leanness that\n",
            "afflicts us, the object of our misery, is as an\n",
            "inventory to particularise their abundance; our\n",
            "sufferance is a gain to them Let us revenge this with\n",
            "our pikes, ere we become rakes: for the gods know I\n",
            "speak this in hunger for bread, not in thirst for revenge.\n",
            "\n",
            "\n"
          ]
        }
      ],
      "source": [
        "!wget https://raw.githubusercontent.com/karpathy/char-rnn/master/data/tinyshakespeare/input.txt\n",
        "# read it in to inspect it\n",
        "with open('input.txt', 'r', encoding='utf-8') as f:\n",
        "    text = f.read()\n",
        "\n",
        "print(text[:1000])"
      ]
    },
    {
      "cell_type": "code",
      "source": [
        "chars = sorted(list(set(''.join(text))))\n",
        "vocab_size = len(chars)"
      ],
      "metadata": {
        "id": "GbOc6fj6fdOb"
      },
      "execution_count": 22,
      "outputs": []
    },
    {
      "cell_type": "code",
      "source": [
        "''.join(chars)"
      ],
      "metadata": {
        "colab": {
          "base_uri": "https://localhost:8080/",
          "height": 35
        },
        "id": "IrY9b-qAf1vg",
        "outputId": "58572883-00e4-42e3-f5dc-46b9d21519ec"
      },
      "execution_count": 23,
      "outputs": [
        {
          "output_type": "execute_result",
          "data": {
            "text/plain": [
              "\"\\n !$&',-.3:;?ABCDEFGHIJKLMNOPQRSTUVWXYZabcdefghijklmnopqrstuvwxyz\""
            ],
            "application/vnd.google.colaboratory.intrinsic+json": {
              "type": "string"
            }
          },
          "metadata": {},
          "execution_count": 23
        }
      ]
    },
    {
      "cell_type": "code",
      "source": [
        "stoi = {s:i for i,s in enumerate(chars)}\n",
        "itos = {i:s for s,i in stoi.items()}\n",
        "encode = lambda s: [stoi[c] for c in s]\n",
        "decode = lambda l: ''.join([itos[i] for i in l])\n",
        "\n",
        "stoi"
      ],
      "metadata": {
        "colab": {
          "base_uri": "https://localhost:8080/"
        },
        "id": "z-zGH7ghgTwn",
        "outputId": "89f16189-9da3-4ed1-c291-bf385e33862d"
      },
      "execution_count": 34,
      "outputs": [
        {
          "output_type": "execute_result",
          "data": {
            "text/plain": [
              "{'\\n': 0,\n",
              " ' ': 1,\n",
              " '!': 2,\n",
              " '$': 3,\n",
              " '&': 4,\n",
              " \"'\": 5,\n",
              " ',': 6,\n",
              " '-': 7,\n",
              " '.': 8,\n",
              " '3': 9,\n",
              " ':': 10,\n",
              " ';': 11,\n",
              " '?': 12,\n",
              " 'A': 13,\n",
              " 'B': 14,\n",
              " 'C': 15,\n",
              " 'D': 16,\n",
              " 'E': 17,\n",
              " 'F': 18,\n",
              " 'G': 19,\n",
              " 'H': 20,\n",
              " 'I': 21,\n",
              " 'J': 22,\n",
              " 'K': 23,\n",
              " 'L': 24,\n",
              " 'M': 25,\n",
              " 'N': 26,\n",
              " 'O': 27,\n",
              " 'P': 28,\n",
              " 'Q': 29,\n",
              " 'R': 30,\n",
              " 'S': 31,\n",
              " 'T': 32,\n",
              " 'U': 33,\n",
              " 'V': 34,\n",
              " 'W': 35,\n",
              " 'X': 36,\n",
              " 'Y': 37,\n",
              " 'Z': 38,\n",
              " 'a': 39,\n",
              " 'b': 40,\n",
              " 'c': 41,\n",
              " 'd': 42,\n",
              " 'e': 43,\n",
              " 'f': 44,\n",
              " 'g': 45,\n",
              " 'h': 46,\n",
              " 'i': 47,\n",
              " 'j': 48,\n",
              " 'k': 49,\n",
              " 'l': 50,\n",
              " 'm': 51,\n",
              " 'n': 52,\n",
              " 'o': 53,\n",
              " 'p': 54,\n",
              " 'q': 55,\n",
              " 'r': 56,\n",
              " 's': 57,\n",
              " 't': 58,\n",
              " 'u': 59,\n",
              " 'v': 60,\n",
              " 'w': 61,\n",
              " 'x': 62,\n",
              " 'y': 63,\n",
              " 'z': 64}"
            ]
          },
          "metadata": {},
          "execution_count": 34
        }
      ]
    },
    {
      "cell_type": "code",
      "source": [
        "import torch\n",
        "data = torch.tensor(encode(text))"
      ],
      "metadata": {
        "id": "2VWW8Eq3gzQs"
      },
      "execution_count": 25,
      "outputs": []
    },
    {
      "cell_type": "code",
      "source": [
        "n = int(0.9*len(data))\n",
        "train_data = data[:n]\n",
        "val_data = data[n:]"
      ],
      "metadata": {
        "id": "699bVyGNhQqy"
      },
      "execution_count": 26,
      "outputs": []
    },
    {
      "cell_type": "code",
      "source": [
        "block_size = 8\n",
        "\n",
        "x = train_data[:block_size]\n",
        "y = train_data[1:block_size+1]\n",
        "print(x,y)\n",
        "for i in range(block_size):\n",
        "  context = x[:i+1]\n",
        "  output = y[i]\n",
        "  print(f'{context = } {output = } ')"
      ],
      "metadata": {
        "colab": {
          "base_uri": "https://localhost:8080/"
        },
        "id": "0Sisf4LujvEZ",
        "outputId": "9c91d727-ede5-4556-c42d-4a69b8ed116b"
      },
      "execution_count": 27,
      "outputs": [
        {
          "output_type": "stream",
          "name": "stdout",
          "text": [
            "tensor([18, 47, 56, 57, 58,  1, 15, 47]) tensor([47, 56, 57, 58,  1, 15, 47, 58])\n",
            "context = tensor([18]) output = tensor(47) \n",
            "context = tensor([18, 47]) output = tensor(56) \n",
            "context = tensor([18, 47, 56]) output = tensor(57) \n",
            "context = tensor([18, 47, 56, 57]) output = tensor(58) \n",
            "context = tensor([18, 47, 56, 57, 58]) output = tensor(1) \n",
            "context = tensor([18, 47, 56, 57, 58,  1]) output = tensor(15) \n",
            "context = tensor([18, 47, 56, 57, 58,  1, 15]) output = tensor(47) \n",
            "context = tensor([18, 47, 56, 57, 58,  1, 15, 47]) output = tensor(58) \n"
          ]
        }
      ]
    },
    {
      "cell_type": "code",
      "source": [
        "torch.manual_seed(1337)\n",
        "batch_size = 4\n",
        "block_size = 8\n",
        "\n",
        "def get_batch(split):\n",
        "  data = train_data if split == 'train' else val_data\n",
        "  ix = torch.randint(len(data)-block_size, (batch_size,))\n",
        "  x = torch.stack( [data[i: i+block_size] for i in ix] )\n",
        "  y = torch.stack( [data[i+1:i+block_size+1] for i in ix] )\n",
        "  return x, y\n",
        "\n",
        "xb, yb = get_batch(\"train\")\n",
        "print(xb.shape, yb.shape)\n",
        "print(f'{xb=} \\n {yb=}')\n",
        "\n",
        "for b in range(batch_size):\n",
        "  for t in range(block_size):\n",
        "    context = xb[b, :t+1]\n",
        "    target = yb[b, t]\n",
        "    print(f'{context = }  {target = }')"
      ],
      "metadata": {
        "colab": {
          "base_uri": "https://localhost:8080/"
        },
        "id": "vWTesTYDkLaI",
        "outputId": "dd1317eb-af21-4633-ae78-947f3ca1eecd"
      },
      "execution_count": 28,
      "outputs": [
        {
          "output_type": "stream",
          "name": "stdout",
          "text": [
            "torch.Size([4, 8]) torch.Size([4, 8])\n",
            "xb=tensor([[24, 43, 58,  5, 57,  1, 46, 43],\n",
            "        [44, 53, 56,  1, 58, 46, 39, 58],\n",
            "        [52, 58,  1, 58, 46, 39, 58,  1],\n",
            "        [25, 17, 27, 10,  0, 21,  1, 54]]) \n",
            " yb=tensor([[43, 58,  5, 57,  1, 46, 43, 39],\n",
            "        [53, 56,  1, 58, 46, 39, 58,  1],\n",
            "        [58,  1, 58, 46, 39, 58,  1, 46],\n",
            "        [17, 27, 10,  0, 21,  1, 54, 39]])\n",
            "context = tensor([24])  target = tensor(43)\n",
            "context = tensor([24, 43])  target = tensor(58)\n",
            "context = tensor([24, 43, 58])  target = tensor(5)\n",
            "context = tensor([24, 43, 58,  5])  target = tensor(57)\n",
            "context = tensor([24, 43, 58,  5, 57])  target = tensor(1)\n",
            "context = tensor([24, 43, 58,  5, 57,  1])  target = tensor(46)\n",
            "context = tensor([24, 43, 58,  5, 57,  1, 46])  target = tensor(43)\n",
            "context = tensor([24, 43, 58,  5, 57,  1, 46, 43])  target = tensor(39)\n",
            "context = tensor([44])  target = tensor(53)\n",
            "context = tensor([44, 53])  target = tensor(56)\n",
            "context = tensor([44, 53, 56])  target = tensor(1)\n",
            "context = tensor([44, 53, 56,  1])  target = tensor(58)\n",
            "context = tensor([44, 53, 56,  1, 58])  target = tensor(46)\n",
            "context = tensor([44, 53, 56,  1, 58, 46])  target = tensor(39)\n",
            "context = tensor([44, 53, 56,  1, 58, 46, 39])  target = tensor(58)\n",
            "context = tensor([44, 53, 56,  1, 58, 46, 39, 58])  target = tensor(1)\n",
            "context = tensor([52])  target = tensor(58)\n",
            "context = tensor([52, 58])  target = tensor(1)\n",
            "context = tensor([52, 58,  1])  target = tensor(58)\n",
            "context = tensor([52, 58,  1, 58])  target = tensor(46)\n",
            "context = tensor([52, 58,  1, 58, 46])  target = tensor(39)\n",
            "context = tensor([52, 58,  1, 58, 46, 39])  target = tensor(58)\n",
            "context = tensor([52, 58,  1, 58, 46, 39, 58])  target = tensor(1)\n",
            "context = tensor([52, 58,  1, 58, 46, 39, 58,  1])  target = tensor(46)\n",
            "context = tensor([25])  target = tensor(17)\n",
            "context = tensor([25, 17])  target = tensor(27)\n",
            "context = tensor([25, 17, 27])  target = tensor(10)\n",
            "context = tensor([25, 17, 27, 10])  target = tensor(0)\n",
            "context = tensor([25, 17, 27, 10,  0])  target = tensor(21)\n",
            "context = tensor([25, 17, 27, 10,  0, 21])  target = tensor(1)\n",
            "context = tensor([25, 17, 27, 10,  0, 21,  1])  target = tensor(54)\n",
            "context = tensor([25, 17, 27, 10,  0, 21,  1, 54])  target = tensor(39)\n"
          ]
        }
      ]
    },
    {
      "cell_type": "code",
      "source": [
        "import torch\n",
        "import torch.nn as nn\n",
        "from torch.nn import functional as F\n",
        "torch.manual_seed(1337)\n",
        "\n",
        "class BigramLangugageModel(nn.Module):\n",
        "\n",
        "  def __init__(self, vocab_size):\n",
        "    super().__init__()\n",
        "    '''\n",
        "    1st argument is size of dict\n",
        "    2nd argument is size of embedding for each input token\n",
        "    So the dim is vocab_size x C, where C is Channel\n",
        "    '''\n",
        "    self.token_embedding_table = nn.Embedding(vocab_size, vocab_size)\n",
        "\n",
        "  def forward(self, input, target = None):\n",
        "    '''\n",
        "    This is the output. Literally just dot product of input (B x T) and embedding table (vocab_size x channel) to get embedding\n",
        "    I think it internally converts input into one hot encoding of size (B x T x vocab_size)\n",
        "    B: number of inputs\n",
        "    T: size of each input\n",
        "    C: channel\n",
        "    '''\n",
        "    # print(input)\n",
        "    # print(target)\n",
        "    \n",
        "    logits = self.token_embedding_table(input) # (B x T x C)\n",
        "\n",
        "    if target is None:\n",
        "      loss = None\n",
        "    else:\n",
        "      B, T, C = logits.shape\n",
        "      logits = logits.view(B*T, C)\n",
        "      target = target.view(B*T)\n",
        "      loss = F.cross_entropy(logits, target)\n",
        "\n",
        "    return logits, loss\n",
        "\n",
        "  def generate(self, idx, max_new_tokens):\n",
        "    for _ in range(max_new_tokens):\n",
        "      logits, _ = self(idx)\n",
        "      logits = logits[:, -1, :] # I dont understand why last index is predicted token\n",
        "      logits = logits.exp()\n",
        "      prob = logits / logits.sum(1, keepdims = True)\n",
        "      idx_next = torch.multinomial(prob, num_samples=1, replacement=True)\n",
        "      idx = torch.cat((idx, idx_next), dim =1)\n",
        "    return idx\n",
        "\n",
        "\n",
        "m = BigramLangugageModel(vocab_size)\n",
        "# logits, loss = m(xb, yb)"
      ],
      "metadata": {
        "id": "aRtNmCBlstxU"
      },
      "execution_count": 29,
      "outputs": []
    },
    {
      "cell_type": "code",
      "source": [
        "print(decode(m.generate(torch.zeros((1,1), dtype = torch.long), max_new_tokens = 100)[0].tolist()))"
      ],
      "metadata": {
        "colab": {
          "base_uri": "https://localhost:8080/"
        },
        "id": "6UcXquLCsuEK",
        "outputId": "a49cd1f5-0b37-4603-8d5f-1f6c7fe2d921"
      },
      "execution_count": 36,
      "outputs": [
        {
          "output_type": "stream",
          "name": "stdout",
          "text": [
            "\n",
            "NRo ls, theresseys\n",
            "Plorseelapinghiend n yof GLUCEN t l-h!\n",
            "O:\n",
            "AROLLUShers f dere! e!\n",
            "QUCotouciullle's\n"
          ]
        }
      ]
    },
    {
      "cell_type": "code",
      "source": [
        "optimizer = torch.optim.AdamW(m.parameters(), lr=1e-3)"
      ],
      "metadata": {
        "id": "0ZffeXz5xwjK"
      },
      "execution_count": 37,
      "outputs": []
    },
    {
      "cell_type": "code",
      "source": [
        "batch_size = 32\n",
        "for steps in range(10000):\n",
        "  xb, yb = get_batch('train')\n",
        "  logits, loss = m(xb, yb)\n",
        "  loss.backward()\n",
        "  optimizer.step()\n",
        "\n",
        "print(loss)"
      ],
      "metadata": {
        "colab": {
          "base_uri": "https://localhost:8080/"
        },
        "id": "_VIkgXSUyDTB",
        "outputId": "453ac26e-c7da-408c-e213-f735310f4489"
      },
      "execution_count": 38,
      "outputs": [
        {
          "output_type": "stream",
          "name": "stdout",
          "text": [
            "tensor(2.6665, grad_fn=<NllLossBackward0>)\n"
          ]
        }
      ]
    },
    {
      "cell_type": "code",
      "source": [
        "print(decode(m.generate(torch.zeros((1,1), dtype = torch.long), max_new_tokens = 400)[0].tolist()))"
      ],
      "metadata": {
        "colab": {
          "base_uri": "https://localhost:8080/"
        },
        "id": "EqrAzP-UVou-",
        "outputId": "084684fc-de2d-4e74-d927-a37a027436d9"
      },
      "execution_count": 35,
      "outputs": [
        {
          "output_type": "stream",
          "name": "stdout",
          "text": [
            "\n",
            "I oteng h hasbe pave pirance\n",
            "RDe hicomyonthar's\n",
            "PES:\n",
            "ARod ith heno hatucenonthioneir thondy, y heltieiengerofuresssit ey\n",
            "KIN d pe wither vouprrouthers nowl t,\n",
            "K:\n",
            "\n",
            "My hind thid pig t ouchos tes; st yo hind wotin grotonear 'so it t jod weancothanan hay. t le n frids, r loncave w hollular s O:\n",
            "HIs; ht anje caike ineent.\n",
            "\n",
            "Lavinde.\n",
            "athave l.\n",
            "KEONGBUThandspo be y,-hedarwnod y scar t aridesar, fre'shenou\n"
          ]
        }
      ]
    },
    {
      "cell_type": "code",
      "source": [],
      "metadata": {
        "id": "NVQZ60PkvyBd"
      },
      "execution_count": null,
      "outputs": []
    }
  ]
}