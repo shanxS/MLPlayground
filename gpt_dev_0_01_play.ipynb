{
  "nbformat": 4,
  "nbformat_minor": 0,
  "metadata": {
    "colab": {
      "provenance": [],
      "authorship_tag": "ABX9TyP4+c6CJ/pAgj2jX5HPGsqv",
      "include_colab_link": true
    },
    "kernelspec": {
      "name": "python3",
      "display_name": "Python 3"
    },
    "language_info": {
      "name": "python"
    }
  },
  "cells": [
    {
      "cell_type": "markdown",
      "metadata": {
        "id": "view-in-github",
        "colab_type": "text"
      },
      "source": [
        "<a href=\"https://colab.research.google.com/github/shanxS/MLPlayground/blob/main/gpt_dev_0_01_play.ipynb\" target=\"_parent\"><img src=\"https://colab.research.google.com/assets/colab-badge.svg\" alt=\"Open In Colab\"/></a>"
      ]
    },
    {
      "cell_type": "markdown",
      "source": [
        "# Bigram setup"
      ],
      "metadata": {
        "id": "SfwMvn0ePgA3"
      }
    },
    {
      "cell_type": "code",
      "execution_count": 2,
      "metadata": {
        "colab": {
          "base_uri": "https://localhost:8080/"
        },
        "id": "se3CySCse7d3",
        "outputId": "1d87f124-3d37-404b-fd09-0255adad9d39"
      },
      "outputs": [
        {
          "output_type": "stream",
          "name": "stdout",
          "text": [
            "--2023-05-09 09:20:30--  https://raw.githubusercontent.com/karpathy/char-rnn/master/data/tinyshakespeare/input.txt\n",
            "Resolving raw.githubusercontent.com (raw.githubusercontent.com)... 185.199.110.133, 185.199.111.133, 185.199.108.133, ...\n",
            "Connecting to raw.githubusercontent.com (raw.githubusercontent.com)|185.199.110.133|:443... connected.\n",
            "HTTP request sent, awaiting response... 200 OK\n",
            "Length: 1115394 (1.1M) [text/plain]\n",
            "Saving to: ‘input.txt’\n",
            "\n",
            "input.txt           100%[===================>]   1.06M  --.-KB/s    in 0.05s   \n",
            "\n",
            "2023-05-09 09:20:30 (19.9 MB/s) - ‘input.txt’ saved [1115394/1115394]\n",
            "\n",
            "First Citizen:\n",
            "Before we proceed any further, hear me speak.\n",
            "\n",
            "All:\n",
            "Speak, speak.\n",
            "\n",
            "First Citizen:\n",
            "You are all resolved rather to die than to famish?\n",
            "\n",
            "All:\n",
            "Resolved. resolved.\n",
            "\n",
            "First Citizen:\n",
            "First, you know Caius Marcius is chief enemy to the people.\n",
            "\n",
            "All:\n",
            "We know't, we know't.\n",
            "\n",
            "First Citizen:\n",
            "Let us kill him, and we'll have corn at our own price.\n",
            "Is't a verdict?\n",
            "\n",
            "All:\n",
            "No more talking on't; let it be done: away, away!\n",
            "\n",
            "Second Citizen:\n",
            "One word, good citizens.\n",
            "\n",
            "First Citizen:\n",
            "We are accounted poor citizens, the patricians good.\n",
            "What authority surfeits on would relieve us: if they\n",
            "would yield us but the superfluity, while it were\n",
            "wholesome, we might guess they relieved us humanely;\n",
            "but they think we are too dear: the leanness that\n",
            "afflicts us, the object of our misery, is as an\n",
            "inventory to particularise their abundance; our\n",
            "sufferance is a gain to them Let us revenge this with\n",
            "our pikes, ere we become rakes: for the gods know I\n",
            "speak this in hunger for bread, not in thirst for revenge.\n",
            "\n",
            "\n"
          ]
        }
      ],
      "source": [
        "!wget https://raw.githubusercontent.com/karpathy/char-rnn/master/data/tinyshakespeare/input.txt\n",
        "# read it in to inspect it\n",
        "with open('input.txt', 'r', encoding='utf-8') as f:\n",
        "    text = f.read()\n",
        "\n",
        "print(text[:1000])"
      ]
    },
    {
      "cell_type": "code",
      "source": [
        "chars = sorted(list(set(''.join(text))))\n",
        "vocab_size = len(chars)"
      ],
      "metadata": {
        "id": "GbOc6fj6fdOb"
      },
      "execution_count": 3,
      "outputs": []
    },
    {
      "cell_type": "code",
      "source": [
        "''.join(chars)"
      ],
      "metadata": {
        "colab": {
          "base_uri": "https://localhost:8080/",
          "height": 35
        },
        "id": "IrY9b-qAf1vg",
        "outputId": "425c07a9-6cbb-4640-ba21-35b85f9956d5"
      },
      "execution_count": 4,
      "outputs": [
        {
          "output_type": "execute_result",
          "data": {
            "text/plain": [
              "\"\\n !$&',-.3:;?ABCDEFGHIJKLMNOPQRSTUVWXYZabcdefghijklmnopqrstuvwxyz\""
            ],
            "application/vnd.google.colaboratory.intrinsic+json": {
              "type": "string"
            }
          },
          "metadata": {},
          "execution_count": 4
        }
      ]
    },
    {
      "cell_type": "code",
      "source": [
        "stoi = {s:i for i,s in enumerate(chars)}\n",
        "itos = {i:s for s,i in stoi.items()}\n",
        "encode = lambda s: [stoi[c] for c in s]\n",
        "decode = lambda l: ''.join([itos[i] for i in l])"
      ],
      "metadata": {
        "id": "z-zGH7ghgTwn"
      },
      "execution_count": 5,
      "outputs": []
    },
    {
      "cell_type": "code",
      "source": [
        "import torch\n",
        "data = torch.tensor(encode(text))"
      ],
      "metadata": {
        "id": "2VWW8Eq3gzQs"
      },
      "execution_count": 6,
      "outputs": []
    },
    {
      "cell_type": "code",
      "source": [
        "n = int(0.9*len(data))\n",
        "train_data = data[:n]\n",
        "val_data = data[n:]"
      ],
      "metadata": {
        "id": "699bVyGNhQqy"
      },
      "execution_count": 7,
      "outputs": []
    },
    {
      "cell_type": "code",
      "source": [
        "block_size = 8\n",
        "\n",
        "x = train_data[:block_size]\n",
        "y = train_data[1:block_size+1]\n",
        "print(x,y)\n",
        "for i in range(block_size):\n",
        "  context = x[:i+1]\n",
        "  output = y[i]\n",
        "  print(f'{context = } {output = } ')"
      ],
      "metadata": {
        "colab": {
          "base_uri": "https://localhost:8080/"
        },
        "id": "0Sisf4LujvEZ",
        "outputId": "91e8c5c2-c661-4ddc-b0bf-51445e5cc281"
      },
      "execution_count": 8,
      "outputs": [
        {
          "output_type": "stream",
          "name": "stdout",
          "text": [
            "tensor([18, 47, 56, 57, 58,  1, 15, 47]) tensor([47, 56, 57, 58,  1, 15, 47, 58])\n",
            "context = tensor([18]) output = tensor(47) \n",
            "context = tensor([18, 47]) output = tensor(56) \n",
            "context = tensor([18, 47, 56]) output = tensor(57) \n",
            "context = tensor([18, 47, 56, 57]) output = tensor(58) \n",
            "context = tensor([18, 47, 56, 57, 58]) output = tensor(1) \n",
            "context = tensor([18, 47, 56, 57, 58,  1]) output = tensor(15) \n",
            "context = tensor([18, 47, 56, 57, 58,  1, 15]) output = tensor(47) \n",
            "context = tensor([18, 47, 56, 57, 58,  1, 15, 47]) output = tensor(58) \n"
          ]
        }
      ]
    },
    {
      "cell_type": "code",
      "source": [
        "torch.manual_seed(1337)\n",
        "batch_size = 4\n",
        "block_size = 8\n",
        "\n",
        "def get_batch(split):\n",
        "  data = train_data if split == 'train' else val_data\n",
        "  ix = torch.randint(len(data)-block_size, (batch_size,))\n",
        "  x = torch.stack( [data[i: i+block_size] for i in ix] )\n",
        "  y = torch.stack( [data[i+1:i+block_size+1] for i in ix] )\n",
        "  return x, y\n",
        "\n",
        "xb, yb = get_batch(\"train\")\n",
        "print(xb.shape, yb.shape)\n",
        "print(f'{xb=} \\n {yb=}')\n",
        "\n",
        "for b in range(batch_size):\n",
        "  for t in range(block_size):\n",
        "    context = xb[b, :t+1]\n",
        "    target = yb[b, t]\n",
        "    print(f'{context = }  {target = }')"
      ],
      "metadata": {
        "colab": {
          "base_uri": "https://localhost:8080/"
        },
        "id": "vWTesTYDkLaI",
        "outputId": "3b5160de-ef55-44a9-8595-a6cee54e323b"
      },
      "execution_count": 9,
      "outputs": [
        {
          "output_type": "stream",
          "name": "stdout",
          "text": [
            "torch.Size([4, 8]) torch.Size([4, 8])\n",
            "xb=tensor([[24, 43, 58,  5, 57,  1, 46, 43],\n",
            "        [44, 53, 56,  1, 58, 46, 39, 58],\n",
            "        [52, 58,  1, 58, 46, 39, 58,  1],\n",
            "        [25, 17, 27, 10,  0, 21,  1, 54]]) \n",
            " yb=tensor([[43, 58,  5, 57,  1, 46, 43, 39],\n",
            "        [53, 56,  1, 58, 46, 39, 58,  1],\n",
            "        [58,  1, 58, 46, 39, 58,  1, 46],\n",
            "        [17, 27, 10,  0, 21,  1, 54, 39]])\n",
            "context = tensor([24])  target = tensor(43)\n",
            "context = tensor([24, 43])  target = tensor(58)\n",
            "context = tensor([24, 43, 58])  target = tensor(5)\n",
            "context = tensor([24, 43, 58,  5])  target = tensor(57)\n",
            "context = tensor([24, 43, 58,  5, 57])  target = tensor(1)\n",
            "context = tensor([24, 43, 58,  5, 57,  1])  target = tensor(46)\n",
            "context = tensor([24, 43, 58,  5, 57,  1, 46])  target = tensor(43)\n",
            "context = tensor([24, 43, 58,  5, 57,  1, 46, 43])  target = tensor(39)\n",
            "context = tensor([44])  target = tensor(53)\n",
            "context = tensor([44, 53])  target = tensor(56)\n",
            "context = tensor([44, 53, 56])  target = tensor(1)\n",
            "context = tensor([44, 53, 56,  1])  target = tensor(58)\n",
            "context = tensor([44, 53, 56,  1, 58])  target = tensor(46)\n",
            "context = tensor([44, 53, 56,  1, 58, 46])  target = tensor(39)\n",
            "context = tensor([44, 53, 56,  1, 58, 46, 39])  target = tensor(58)\n",
            "context = tensor([44, 53, 56,  1, 58, 46, 39, 58])  target = tensor(1)\n",
            "context = tensor([52])  target = tensor(58)\n",
            "context = tensor([52, 58])  target = tensor(1)\n",
            "context = tensor([52, 58,  1])  target = tensor(58)\n",
            "context = tensor([52, 58,  1, 58])  target = tensor(46)\n",
            "context = tensor([52, 58,  1, 58, 46])  target = tensor(39)\n",
            "context = tensor([52, 58,  1, 58, 46, 39])  target = tensor(58)\n",
            "context = tensor([52, 58,  1, 58, 46, 39, 58])  target = tensor(1)\n",
            "context = tensor([52, 58,  1, 58, 46, 39, 58,  1])  target = tensor(46)\n",
            "context = tensor([25])  target = tensor(17)\n",
            "context = tensor([25, 17])  target = tensor(27)\n",
            "context = tensor([25, 17, 27])  target = tensor(10)\n",
            "context = tensor([25, 17, 27, 10])  target = tensor(0)\n",
            "context = tensor([25, 17, 27, 10,  0])  target = tensor(21)\n",
            "context = tensor([25, 17, 27, 10,  0, 21])  target = tensor(1)\n",
            "context = tensor([25, 17, 27, 10,  0, 21,  1])  target = tensor(54)\n",
            "context = tensor([25, 17, 27, 10,  0, 21,  1, 54])  target = tensor(39)\n"
          ]
        }
      ]
    },
    {
      "cell_type": "code",
      "source": [
        "import torch\n",
        "import torch.nn as nn\n",
        "from torch.nn import functional as F\n",
        "torch.manual_seed(1337)\n",
        "\n",
        "class BigramLangugageModel(nn.Module):\n",
        "\n",
        "  def __init__(self, vocab_size):\n",
        "    super().__init__()\n",
        "    '''\n",
        "    1st argument is size of dict\n",
        "    2nd argument is size of embedding for each input token\n",
        "    So the dim is vocab_size x C, where C is Channel\n",
        "    '''\n",
        "    self.token_embedding_table = nn.Embedding(vocab_size, vocab_size)\n",
        "\n",
        "  def forward(self, input, target = None):\n",
        "    '''\n",
        "    This is the output. Literally just dot product of input (B x T) and embedding table (vocab_size x channel) to get embedding\n",
        "    I think it internally converts input into one hot encoding of size (B x T x vocab_size)\n",
        "    B: number of inputs\n",
        "    T: size of each input\n",
        "    C: channel\n",
        "    '''\n",
        "    # print(input)\n",
        "    # print(target)\n",
        "    \n",
        "    logits = self.token_embedding_table(input) # (B x T x C)\n",
        "\n",
        "    if target is None:\n",
        "      loss = None\n",
        "    else:\n",
        "      B, T, C = logits.shape\n",
        "      logits = logits.view(B*T, C)\n",
        "      target = target.view(B*T)\n",
        "      loss = F.cross_entropy(logits, target)\n",
        "\n",
        "    return logits, loss\n",
        "\n",
        "  def generate(self, idx, max_new_tokens):\n",
        "    for _ in range(max_new_tokens):\n",
        "      logits, _ = self(idx)\n",
        "      logits = logits[:, -1, :] # I dont understand why last index is predicted token\n",
        "      logits = logits.exp()\n",
        "      prob = logits / logits.sum(1, keepdims = True)\n",
        "      idx_next = torch.multinomial(prob, num_samples=1, replacement=True)\n",
        "      idx = torch.cat((idx, idx_next), dim =1)\n",
        "    return idx\n",
        "\n",
        "\n",
        "m = BigramLangugageModel(vocab_size)\n",
        "# logits, loss = m(xb, yb)"
      ],
      "metadata": {
        "id": "aRtNmCBlstxU"
      },
      "execution_count": 10,
      "outputs": []
    },
    {
      "cell_type": "code",
      "source": [
        "print(decode(m.generate(torch.zeros((1,1), dtype = torch.long), max_new_tokens = 100)[0].tolist()))"
      ],
      "metadata": {
        "colab": {
          "base_uri": "https://localhost:8080/"
        },
        "id": "6UcXquLCsuEK",
        "outputId": "cbeca527-d407-4b70-eeee-d7b2f8b25785"
      },
      "execution_count": 11,
      "outputs": [
        {
          "output_type": "stream",
          "name": "stdout",
          "text": [
            "\n",
            "Sr?qP-QWktXoL&jLDJgOLVz'RIoDqHdhsV&vLLxatjscMpwLERSPyao.qfzs$Ys$zF-w,;eEkzxjgCKFChs!iWW.ObzDnxA Ms$3\n"
          ]
        }
      ]
    },
    {
      "cell_type": "code",
      "source": [
        "optimizer = torch.optim.AdamW(m.parameters(), lr=1e-3)"
      ],
      "metadata": {
        "id": "0ZffeXz5xwjK"
      },
      "execution_count": 12,
      "outputs": []
    },
    {
      "cell_type": "code",
      "source": [
        "batch_size = 32\n",
        "for steps in range(10000):\n",
        "  xb, yb = get_batch('train')\n",
        "  logits, loss = m(xb, yb)\n",
        "  loss.backward()\n",
        "  optimizer.step()\n",
        "\n",
        "print(loss)"
      ],
      "metadata": {
        "colab": {
          "base_uri": "https://localhost:8080/"
        },
        "id": "_VIkgXSUyDTB",
        "outputId": "06f330f1-94e0-49d0-88cb-c2f3c0584d06"
      },
      "execution_count": 13,
      "outputs": [
        {
          "output_type": "stream",
          "name": "stdout",
          "text": [
            "tensor(2.7662, grad_fn=<NllLossBackward0>)\n"
          ]
        }
      ]
    },
    {
      "cell_type": "code",
      "source": [
        "print(decode(m.generate(torch.zeros((1,1), dtype = torch.long), max_new_tokens = 400)[0].tolist()))"
      ],
      "metadata": {
        "colab": {
          "base_uri": "https://localhost:8080/"
        },
        "id": "EqrAzP-UVou-",
        "outputId": "80ed93fe-d958-4048-86c9-efe68c3a3714"
      },
      "execution_count": 14,
      "outputs": [
        {
          "output_type": "stream",
          "name": "stdout",
          "text": [
            "\n",
            "I oteng h hasbe pave pirance\n",
            "RDe hicomyonthar's\n",
            "PES:\n",
            "ARod ith heno hatucenonthioneir thondy, y heltieiengerofuresssit ey\n",
            "KIN d pe wither vouprrouthers nowl t,\n",
            "K:\n",
            "\n",
            "My hind thid pig t ouchos tes; st yo hind wotin grotonear 'so it t jod weancothanan hay. t le n frids, r loncave w hollular s O:\n",
            "HIs; ht anje caike ineent.\n",
            "\n",
            "Lavinde.\n",
            "athave l.\n",
            "KEONGBUThandspo be y,-hedarwnod y scar t aridesar, fre'shenou\n"
          ]
        }
      ]
    },
    {
      "cell_type": "markdown",
      "source": [
        "# Self attention"
      ],
      "metadata": {
        "id": "8ishJcZcPYvt"
      }
    },
    {
      "cell_type": "code",
      "source": [
        "torch.manual_seed(1337)\n",
        "B,T,C = 8,4,2\n",
        "x = torch.randn(B,T,C) # logits after we send input into embedding layer"
      ],
      "metadata": {
        "id": "NVQZ60PkvyBd"
      },
      "execution_count": 16,
      "outputs": []
    },
    {
      "cell_type": "markdown",
      "source": [
        "### approach 1: manually average past tokens"
      ],
      "metadata": {
        "id": "_B1GbkkW2aSg"
      }
    },
    {
      "cell_type": "code",
      "source": [
        "xbow = torch.zeros((B,T,C))\n",
        "for b in range(B):\n",
        "  for t in range(T):\n",
        "    xprev = x[b, :t+1] # t+1 to include current token\n",
        "    xbow[b, t] = torch.mean(xprev, 0) # mean along rows, keeping col const\n",
        "\n",
        "print(x[0])\n",
        "print(xbow[0])"
      ],
      "metadata": {
        "colab": {
          "base_uri": "https://localhost:8080/"
        },
        "id": "bASwXZqZzw0s",
        "outputId": "cb8862ae-653b-4c99-d5b4-d0e8018809ba"
      },
      "execution_count": 54,
      "outputs": [
        {
          "output_type": "stream",
          "name": "stdout",
          "text": [
            "tensor([[ 0.1588, -2.3106],\n",
            "        [ 0.3227,  1.5431],\n",
            "        [-1.3924,  1.3114],\n",
            "        [ 1.3805,  0.3544]])\n",
            "tensor([[ 0.1588, -2.3106],\n",
            "        [ 0.2407, -0.3837],\n",
            "        [-0.3037,  0.1813],\n",
            "        [ 0.1174,  0.2246]])\n"
          ]
        }
      ]
    },
    {
      "cell_type": "markdown",
      "source": [
        "### approach 2: matrix multiplication"
      ],
      "metadata": {
        "id": "yoZ-x2l22gt-"
      }
    },
    {
      "cell_type": "code",
      "source": [
        "# to being with, lets keep math simple we'll stick to 2D\n",
        "tmp = torch.tril(torch.ones(3,3)) # this helps with summing across rows, keeping col const\n",
        "tmp = tmp / tmp.sum(dim=1, keepdims=True) # this helps with average\n",
        "xtmp = torch.randint(0,10,(3,2)).float()\n",
        "print(f'{xtmp = } \\n {tmp = } \\n {tmp@xtmp = }')"
      ],
      "metadata": {
        "colab": {
          "base_uri": "https://localhost:8080/"
        },
        "id": "ktCBc1BX14IJ",
        "outputId": "58d61891-6f94-4da6-ff14-f0ab208bbabe"
      },
      "execution_count": 55,
      "outputs": [
        {
          "output_type": "stream",
          "name": "stdout",
          "text": [
            "xtmp = tensor([[6., 2.],\n",
            "        [6., 7.],\n",
            "        [7., 0.]]) \n",
            " tmp = tensor([[1.0000, 0.0000, 0.0000],\n",
            "        [0.5000, 0.5000, 0.0000],\n",
            "        [0.3333, 0.3333, 0.3333]]) \n",
            " tmp@xtmp = tensor([[6.0000, 2.0000],\n",
            "        [6.0000, 4.5000],\n",
            "        [6.3333, 3.0000]])\n"
          ]
        }
      ]
    },
    {
      "cell_type": "code",
      "source": [
        "# final version\n",
        "wei = torch.tril(torch.ones(T,T))\n",
        "wei = wei / wei.sum(dim = 1, keepdims = True)\n",
        "print(f'{wei.shape=}')\n",
        "\n",
        "xbow2 = wei @ x # note that wei does not have Batch dim but this works anyway\n",
        "print(f'{x[0]=} \\n {xbow2[0]=}')\n",
        "torch.allclose(xbow, xbow2)"
      ],
      "metadata": {
        "colab": {
          "base_uri": "https://localhost:8080/"
        },
        "id": "nzGZhZRO3z-c",
        "outputId": "b4fc919a-c266-4962-9a43-f875041bbe0c"
      },
      "execution_count": 56,
      "outputs": [
        {
          "output_type": "stream",
          "name": "stdout",
          "text": [
            "wei.shape=torch.Size([4, 4])\n",
            "x[0]=tensor([[ 0.1588, -2.3106],\n",
            "        [ 0.3227,  1.5431],\n",
            "        [-1.3924,  1.3114],\n",
            "        [ 1.3805,  0.3544]]) \n",
            " xbow2[0]=tensor([[ 0.1588, -2.3106],\n",
            "        [ 0.2407, -0.3837],\n",
            "        [-0.3037,  0.1813],\n",
            "        [ 0.1174,  0.2246]])\n"
          ]
        },
        {
          "output_type": "execute_result",
          "data": {
            "text/plain": [
              "True"
            ]
          },
          "metadata": {},
          "execution_count": 56
        }
      ]
    },
    {
      "cell_type": "markdown",
      "source": [
        "### approach 3: using softmax"
      ],
      "metadata": {
        "id": "V90OEeZ8_6L4"
      }
    },
    {
      "cell_type": "code",
      "source": [
        "tril = torch.tril(torch.ones(T,T))\n",
        "wei = torch.zeros(T,T) # matrix that will eventually decide which part of history impacts a given token most\n",
        "wei = wei.masked_fill(tril == 0, float('-inf')) # enforces that nothing is read from future\n",
        "wei = torch.softmax(wei, dim=-1) # averages all cols of a row\n",
        "xbow3 = wei @ x\n",
        "torch.allclose(xbow, xbow3)"
      ],
      "metadata": {
        "colab": {
          "base_uri": "https://localhost:8080/"
        },
        "id": "tzUzyAIo9-tS",
        "outputId": "4c255a04-c182-4fa6-ca5b-c6a906c32b99"
      },
      "execution_count": 59,
      "outputs": [
        {
          "output_type": "execute_result",
          "data": {
            "text/plain": [
              "True"
            ]
          },
          "metadata": {},
          "execution_count": 59
        }
      ]
    },
    {
      "cell_type": "code",
      "source": [],
      "metadata": {
        "id": "Rb8faBnmBrKR"
      },
      "execution_count": null,
      "outputs": []
    }
  ]
}