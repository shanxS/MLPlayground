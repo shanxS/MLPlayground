{
  "nbformat": 4,
  "nbformat_minor": 0,
  "metadata": {
    "colab": {
      "provenance": [],
      "authorship_tag": "ABX9TyNfY6TupT2wpPIFcgSr6h0D",
      "include_colab_link": true
    },
    "kernelspec": {
      "name": "python3",
      "display_name": "Python 3"
    },
    "language_info": {
      "name": "python"
    }
  },
  "cells": [
    {
      "cell_type": "markdown",
      "metadata": {
        "id": "view-in-github",
        "colab_type": "text"
      },
      "source": [
        "<a href=\"https://colab.research.google.com/github/shanxS/MLPlayground/blob/main/makemore_1.ipynb\" target=\"_parent\"><img src=\"https://colab.research.google.com/assets/colab-badge.svg\" alt=\"Open In Colab\"/></a>"
      ]
    },
    {
      "cell_type": "code",
      "source": [
        "!pip install urllib"
      ],
      "metadata": {
        "colab": {
          "base_uri": "https://localhost:8080/"
        },
        "id": "8sUTcD3KSR6B",
        "outputId": "327222ad-9817-473a-c98f-20815d012973"
      },
      "execution_count": null,
      "outputs": [
        {
          "output_type": "stream",
          "name": "stdout",
          "text": [
            "Looking in indexes: https://pypi.org/simple, https://us-python.pkg.dev/colab-wheels/public/simple/\n",
            "\u001b[31mERROR: Could not find a version that satisfies the requirement urllib (from versions: none)\u001b[0m\u001b[31m\n",
            "\u001b[0m\u001b[31mERROR: No matching distribution found for urllib\u001b[0m\u001b[31m\n",
            "\u001b[0m"
          ]
        }
      ]
    },
    {
      "cell_type": "code",
      "execution_count": 1,
      "metadata": {
        "colab": {
          "base_uri": "https://localhost:8080/"
        },
        "id": "Iw5zus7BQBL9",
        "outputId": "9fb5aa38-3f44-4d54-d775-08442986ba36"
      },
      "outputs": [
        {
          "output_type": "execute_result",
          "data": {
            "text/plain": [
              "['emma',\n",
              " 'olivia',\n",
              " 'ava',\n",
              " 'isabella',\n",
              " 'sophia',\n",
              " 'charlotte',\n",
              " 'mia',\n",
              " 'amelia',\n",
              " 'harper',\n",
              " 'evelyn']"
            ]
          },
          "metadata": {},
          "execution_count": 1
        }
      ],
      "source": [
        "from urllib.request import urlopen\n",
        "\n",
        "words = urlopen(\"https://raw.githubusercontent.com/karpathy/makemore/master/names.txt\").read().decode('utf-8').splitlines()\n",
        "words[:10]\n"
      ]
    },
    {
      "cell_type": "code",
      "source": [
        "len(words)"
      ],
      "metadata": {
        "colab": {
          "base_uri": "https://localhost:8080/"
        },
        "id": "ptkmQPjaSBh_",
        "outputId": "2f2ae88a-308f-4f35-d76a-11332102450c"
      },
      "execution_count": 2,
      "outputs": [
        {
          "output_type": "execute_result",
          "data": {
            "text/plain": [
              "32033"
            ]
          },
          "metadata": {},
          "execution_count": 2
        }
      ]
    },
    {
      "cell_type": "code",
      "source": [
        "min(len(w) for w in words)\n"
      ],
      "metadata": {
        "colab": {
          "base_uri": "https://localhost:8080/"
        },
        "id": "CQsKfz1kTgv5",
        "outputId": "2ad50b86-0a90-48ef-b533-7e24054dfb10"
      },
      "execution_count": 3,
      "outputs": [
        {
          "output_type": "execute_result",
          "data": {
            "text/plain": [
              "2"
            ]
          },
          "metadata": {},
          "execution_count": 3
        }
      ]
    },
    {
      "cell_type": "code",
      "source": [
        "max(len(w) for w in words)"
      ],
      "metadata": {
        "colab": {
          "base_uri": "https://localhost:8080/"
        },
        "id": "RFF6BdWYTqDS",
        "outputId": "74223213-5865-4de7-ebe6-df8e10288fa4"
      },
      "execution_count": 4,
      "outputs": [
        {
          "output_type": "execute_result",
          "data": {
            "text/plain": [
              "15"
            ]
          },
          "metadata": {},
          "execution_count": 4
        }
      ]
    },
    {
      "cell_type": "code",
      "source": [
        "b = {}\n",
        "for w in words:\n",
        "  chs = ['<S>'] + list(w) + ['<E>']\n",
        "  for ch1, ch2 in zip(chs, chs[1:]):\n",
        "    bigram = (ch1, ch2)\n",
        "    b[bigram] = b.get(bigram, 0) + 1\n",
        "\n",
        "# sorted(b.items(), key = lambda kv: -kv[1])"
      ],
      "metadata": {
        "id": "4gRI3Z0sTqTJ"
      },
      "execution_count": 5,
      "outputs": []
    },
    {
      "cell_type": "code",
      "source": [
        "import torch"
      ],
      "metadata": {
        "id": "KO2sucfWVwNY"
      },
      "execution_count": 6,
      "outputs": []
    },
    {
      "cell_type": "code",
      "source": [
        "chars = sorted(list(set(''.join(words))))\n",
        "stoi = {s:i+1 for i,s in enumerate(chars)}\n",
        "stoi['.'] = 0\n",
        "\n",
        "itos = {i:s for s,i in stoi.items()}"
      ],
      "metadata": {
        "id": "v4p1zK-wZQCi"
      },
      "execution_count": 7,
      "outputs": []
    },
    {
      "cell_type": "code",
      "source": [
        "N = torch.zeros(27,27,dtype = torch.int32)\n",
        "for w in words:\n",
        "  chs = ['.'] + list(w) + ['.']\n",
        "  for ch1, ch2 in zip(chs, chs[1:]):\n",
        "    N[stoi[ch1], stoi[ch2]] += 1\n",
        "\n",
        "\n",
        "# given prob distriubtion of chars after a given char. Find the next char using \n",
        "# torch.multinomial(N[current_char], num_samples=1, replacement=True, generator=g)\n",
        "# repeat this till we reach desired length.\n",
        "# Desired length can also be a probablistic function"
      ],
      "metadata": {
        "id": "OdmT21_tXJoJ"
      },
      "execution_count": 8,
      "outputs": []
    },
    {
      "cell_type": "code",
      "source": [
        "# EXPLORATORY\n",
        "\n",
        "import matplotlib.pyplot as plt\n",
        "%matplotlib inline\n",
        "plt.imshow(N)"
      ],
      "metadata": {
        "id": "ydkZgtIeY0sl",
        "colab": {
          "base_uri": "https://localhost:8080/",
          "height": 447
        },
        "outputId": "7a932663-8afb-4987-a6f2-0e8ee0a6c27f"
      },
      "execution_count": 9,
      "outputs": [
        {
          "output_type": "execute_result",
          "data": {
            "text/plain": [
              "<matplotlib.image.AxesImage at 0x7f18d985a440>"
            ]
          },
          "metadata": {},
          "execution_count": 9
        },
        {
          "output_type": "display_data",
          "data": {
            "text/plain": [
              "<Figure size 640x480 with 1 Axes>"
            ],
            "image/png": "[encoded data removed]"
          },
          "metadata": {}
        }
      ]
    },
    {
      "cell_type": "code",
      "source": [
        "# EXPLORATORY\n",
        "\n",
        "p = N[0].float()\n",
        "p = p / p.sum()\n",
        "g = torch.Generator().manual_seed(2147483647)\n",
        "itos[torch.multinomial(p, num_samples=1, replacement=True, generator=g).item()]"
      ],
      "metadata": {
        "colab": {
          "base_uri": "https://localhost:8080/",
          "height": 35
        },
        "id": "qQzMIKv8cZWH",
        "outputId": "3dc6d1e4-8e56-4bec-b641-17040bb4e103"
      },
      "execution_count": 10,
      "outputs": [
        {
          "output_type": "execute_result",
          "data": {
            "text/plain": [
              "'j'"
            ],
            "application/vnd.google.colaboratory.intrinsic+json": {
              "type": "string"
            }
          },
          "metadata": {},
          "execution_count": 10
        }
      ]
    },
    {
      "cell_type": "code",
      "source": [
        "P = N.float()\n",
        "P = P / P.sum(1, keepdim = True)\n",
        "\n",
        "P[1].sum()"
      ],
      "metadata": {
        "colab": {
          "base_uri": "https://localhost:8080/"
        },
        "id": "cYloMmYGMCYu",
        "outputId": "ad8cb40e-ad5f-40dd-b601-fdb56d5b9384"
      },
      "execution_count": 11,
      "outputs": [
        {
          "output_type": "execute_result",
          "data": {
            "text/plain": [
              "tensor(1.)"
            ]
          },
          "metadata": {},
          "execution_count": 11
        }
      ]
    },
    {
      "cell_type": "code",
      "source": [
        "# FINAL GENERATION OF OUTPUT\n",
        "\n",
        "ix = 0\n",
        "g = torch.Generator().manual_seed(2147483647)\n",
        "\n",
        "for i in range(20):\n",
        "  out = []\n",
        "  while True:\n",
        "    # p = N[ix].float()\n",
        "    # p = p / p.sum()\n",
        "    p = P[ix]\n",
        "\n",
        "    ix = torch.multinomial(p, num_samples=1, replacement=True, generator=g).item()\n",
        "    if ix == 0:\n",
        "      break\n",
        "    out.append(itos[ix])\n",
        "  print(''.join(out))"
      ],
      "metadata": {
        "colab": {
          "base_uri": "https://localhost:8080/"
        },
        "id": "J_hD-CsGFoVT",
        "outputId": "aec66914-e977-4579-85e2-16a759994b5a"
      },
      "execution_count": 12,
      "outputs": [
        {
          "output_type": "stream",
          "name": "stdout",
          "text": [
            "junide\n",
            "janasah\n",
            "p\n",
            "cony\n",
            "a\n",
            "nn\n",
            "kohin\n",
            "tolian\n",
            "juee\n",
            "ksahnaauranilevias\n",
            "dedainrwieta\n",
            "ssonielylarte\n",
            "faveumerifontume\n",
            "phynslenaruani\n",
            "core\n",
            "yaenon\n",
            "ka\n",
            "jabdinerimikimaynin\n",
            "anaasn\n",
            "ssorionsush\n"
          ]
        }
      ]
    },
    {
      "cell_type": "code",
      "source": [
        "# MODEL QUALITY\n",
        "log_likelihood = 0\n",
        "n = 0\n",
        "for w in words:\n",
        "  chs = ['.'] + list(w) + ['.']\n",
        "  for ch1, ch2 in zip(chs, chs[1:]):\n",
        "    ix1 = stoi[ch1]\n",
        "    ix2 = stoi[ch2]\n",
        "    prob = P[ix1, ix2]\n",
        "    logprob = torch.log(prob)\n",
        "    log_likelihood += logprob\n",
        "    n += 1\n",
        "    # print(f'{ch1}{ch2} {prob:.4f} {logprob:.4f}')\n",
        "\n",
        "print(f'{log_likelihood=}')\n",
        "nll = -log_likelihood\n",
        "print(f'{nll=}')\n",
        "print(nll/n)"
      ],
      "metadata": {
        "id": "qK5xGiOmJr7I",
        "colab": {
          "base_uri": "https://localhost:8080/"
        },
        "outputId": "7d61f74b-40f1-4fbb-87ab-9adb6f722972"
      },
      "execution_count": 13,
      "outputs": [
        {
          "output_type": "stream",
          "name": "stdout",
          "text": [
            "log_likelihood=tensor(-559891.7500)\n",
            "nll=tensor(559891.7500)\n",
            "tensor(2.4541)\n"
          ]
        }
      ]
    },
    {
      "cell_type": "code",
      "source": [
        "# Setting up data for neural net\n",
        "xs = []\n",
        "ys = []\n",
        "for w in words:\n",
        "  chs = ['.'] + list(w) + ['.']\n",
        "  for ch1, ch2 in zip(chs, chs[1:]):\n",
        "    # print(ch1, ch2)\n",
        "    xs.append(stoi[ch1])\n",
        "    ys.append(stoi[ch2])\n",
        "\n",
        "xs = torch.tensor(xs)\n",
        "ys = torch.tensor(ys)\n",
        "num = xs.nelement()\n",
        "\n",
        "g = torch.Generator().manual_seed(2147483647)\n",
        "W = torch.randn((27,27), generator = g, requires_grad = True)"
      ],
      "metadata": {
        "id": "R2uFl1JjWuIb"
      },
      "execution_count": 18,
      "outputs": []
    },
    {
      "cell_type": "code",
      "source": [
        "import torch.nn.functional as F\n",
        "\n",
        "for k in range(10):\n",
        "  xenc = F.one_hot(xs, num_classes=27).float()\n",
        "\n",
        "  ### Forward pass\n",
        "  logits = (xenc @ W)\n",
        "  counts = logits.exp()\n",
        "  probs = counts / counts.sum(1, keepdims = True)\n",
        "  loss = -probs[torch.arange(num), ys].log().mean()\n",
        "  print(loss)\n",
        "\n",
        "  # Backward\n",
        "  W.grad = None\n",
        "  loss.backward()\n",
        "\n",
        "  # Update\n",
        "  W.data += -50.0 * W.grad"
      ],
      "metadata": {
        "colab": {
          "base_uri": "https://localhost:8080/"
        },
        "id": "XPPOhRiGdH2I",
        "outputId": "aa2138f9-3ca1-482a-dd7e-6a3fc93be437"
      },
      "execution_count": 19,
      "outputs": [
        {
          "output_type": "stream",
          "name": "stdout",
          "text": [
            "tensor(3.7590, grad_fn=<NegBackward0>)\n",
            "tensor(3.3711, grad_fn=<NegBackward0>)\n",
            "tensor(3.1540, grad_fn=<NegBackward0>)\n",
            "tensor(3.0204, grad_fn=<NegBackward0>)\n",
            "tensor(2.9277, grad_fn=<NegBackward0>)\n",
            "tensor(2.8604, grad_fn=<NegBackward0>)\n",
            "tensor(2.8097, grad_fn=<NegBackward0>)\n",
            "tensor(2.7701, grad_fn=<NegBackward0>)\n",
            "tensor(2.7381, grad_fn=<NegBackward0>)\n",
            "tensor(2.7115, grad_fn=<NegBackward0>)\n"
          ]
        }
      ]
    },
    {
      "cell_type": "code",
      "source": [
        "xs = 0\n",
        "res = []\n",
        "while True:\n",
        "  xenc = F.one_hot(torch.tensor([xs]), num_classes=27).float()\n",
        "  logits = (xenc @ W)\n",
        "  counts = logits.exp()\n",
        "  P = counts / counts.sum(1, keepdims = True)\n",
        "\n",
        "  xs = torch.multinomial(P, num_samples=1, replacement=True, generator=g).item()\n",
        "  if xs == 0:\n",
        "    break\n",
        "  res.append(itos[xs])\n",
        "\n",
        "print(''.join(res))"
      ],
      "metadata": {
        "colab": {
          "base_uri": "https://localhost:8080/"
        },
        "id": "wHLu9MesdW0G",
        "outputId": "cd986741-ea6c-4a47-c4af-8de573837ff1"
      },
      "execution_count": 20,
      "outputs": [
        {
          "output_type": "stream",
          "name": "stdout",
          "text": [
            "mordwqjadkala\n"
          ]
        }
      ]
    },
    {
      "cell_type": "code",
      "source": [],
      "metadata": {
        "id": "WdDmFFfjfSGV"
      },
      "execution_count": null,
      "outputs": []
    }
  ]
}