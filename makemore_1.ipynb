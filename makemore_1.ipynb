{
  "nbformat": 4,
  "nbformat_minor": 0,
  "metadata": {
    "colab": {
      "provenance": [],
      "authorship_tag": "ABX9TyMRw3sNz6D5aaH7kgDe/ewf",
      "include_colab_link": true
    },
    "kernelspec": {
      "name": "python3",
      "display_name": "Python 3"
    },
    "language_info": {
      "name": "python"
    }
  },
  "cells": [
    {
      "cell_type": "markdown",
      "metadata": {
        "id": "view-in-github",
        "colab_type": "text"
      },
      "source": [
        "<a href=\"https://colab.research.google.com/github/shanxS/MLPlayground/blob/main/makemore_1.ipynb\" target=\"_parent\"><img src=\"https://colab.research.google.com/assets/colab-badge.svg\" alt=\"Open In Colab\"/></a>"
      ]
    },
    {
      "cell_type": "code",
      "source": [
        "!pip install urllib"
      ],
      "metadata": {
        "colab": {
          "base_uri": "https://localhost:8080/"
        },
        "id": "8sUTcD3KSR6B",
        "outputId": "327222ad-9817-473a-c98f-20815d012973"
      },
      "execution_count": null,
      "outputs": [
        {
          "output_type": "stream",
          "name": "stdout",
          "text": [
            "Looking in indexes: https://pypi.org/simple, https://us-python.pkg.dev/colab-wheels/public/simple/\n",
            "\u001b[31mERROR: Could not find a version that satisfies the requirement urllib (from versions: none)\u001b[0m\u001b[31m\n",
            "\u001b[0m\u001b[31mERROR: No matching distribution found for urllib\u001b[0m\u001b[31m\n",
            "\u001b[0m"
          ]
        }
      ]
    },
    {
      "cell_type": "code",
      "execution_count": null,
      "metadata": {
        "colab": {
          "base_uri": "https://localhost:8080/"
        },
        "id": "Iw5zus7BQBL9",
        "outputId": "86f006a6-7849-4d88-fcc3-cdf15340c728"
      },
      "outputs": [
        {
          "output_type": "execute_result",
          "data": {
            "text/plain": [
              "['emma',\n",
              " 'olivia',\n",
              " 'ava',\n",
              " 'isabella',\n",
              " 'sophia',\n",
              " 'charlotte',\n",
              " 'mia',\n",
              " 'amelia',\n",
              " 'harper',\n",
              " 'evelyn']"
            ]
          },
          "metadata": {},
          "execution_count": 8
        }
      ],
      "source": [
        "from urllib.request import urlopen\n",
        "\n",
        "words = urlopen(\"https://raw.githubusercontent.com/karpathy/makemore/master/names.txt\").read().decode('utf-8').splitlines()\n",
        "words[:10]\n"
      ]
    },
    {
      "cell_type": "code",
      "source": [
        "len(words)"
      ],
      "metadata": {
        "colab": {
          "base_uri": "https://localhost:8080/"
        },
        "id": "ptkmQPjaSBh_",
        "outputId": "c6bf0b21-6a22-4602-c675-5da94ae9cd66"
      },
      "execution_count": null,
      "outputs": [
        {
          "output_type": "execute_result",
          "data": {
            "text/plain": [
              "32033"
            ]
          },
          "metadata": {},
          "execution_count": 9
        }
      ]
    },
    {
      "cell_type": "code",
      "source": [
        "min(len(w) for w in words)\n"
      ],
      "metadata": {
        "colab": {
          "base_uri": "https://localhost:8080/"
        },
        "id": "CQsKfz1kTgv5",
        "outputId": "7e1424bd-8c63-439c-f2e9-48b2500a1d9b"
      },
      "execution_count": null,
      "outputs": [
        {
          "output_type": "execute_result",
          "data": {
            "text/plain": [
              "2"
            ]
          },
          "metadata": {},
          "execution_count": 10
        }
      ]
    },
    {
      "cell_type": "code",
      "source": [
        "max(len(w) for w in words)"
      ],
      "metadata": {
        "colab": {
          "base_uri": "https://localhost:8080/"
        },
        "id": "RFF6BdWYTqDS",
        "outputId": "fafa6dfe-86e0-4846-b962-5ec6e9bac965"
      },
      "execution_count": null,
      "outputs": [
        {
          "output_type": "execute_result",
          "data": {
            "text/plain": [
              "15"
            ]
          },
          "metadata": {},
          "execution_count": 11
        }
      ]
    },
    {
      "cell_type": "code",
      "source": [
        "b = {}\n",
        "for w in words:\n",
        "  chs = ['<S>'] + list(w) + ['<E>']\n",
        "  for ch1, ch2 in zip(chs, chs[1:]):\n",
        "    bigram = (ch1, ch2)\n",
        "    b[bigram] = b.get(bigram, 0) + 1\n",
        "\n",
        "# sorted(b.items(), key = lambda kv: -kv[1])"
      ],
      "metadata": {
        "id": "4gRI3Z0sTqTJ"
      },
      "execution_count": null,
      "outputs": []
    },
    {
      "cell_type": "code",
      "source": [
        "import torch"
      ],
      "metadata": {
        "id": "KO2sucfWVwNY"
      },
      "execution_count": null,
      "outputs": []
    },
    {
      "cell_type": "code",
      "source": [
        "chars = sorted(list(set(''.join(words))))\n",
        "stoi = {s:i+1 for i,s in enumerate(chars)}\n",
        "stoi['.'] = 0\n",
        "\n",
        "itos = {i:s for s,i in stoi.items()}"
      ],
      "metadata": {
        "id": "v4p1zK-wZQCi"
      },
      "execution_count": null,
      "outputs": []
    },
    {
      "cell_type": "code",
      "source": [
        "N = torch.zeros(27,27,dtype = torch.int32)\n",
        "for w in words:\n",
        "  chs = ['.'] + list(w) + ['.']\n",
        "  for ch1, ch2 in zip(chs, chs[1:]):\n",
        "    N[stoi[ch1], stoi[ch2]] += 1\n",
        "\n",
        "\n",
        "# given prob distriubtion of chars after a given char. Find the next char using \n",
        "# torch.multinomial(N[current_char], num_samples=1, replacement=True, generator=g)\n",
        "# repeat this till we reach desired length.\n",
        "# Desired length can also be a probablistic function"
      ],
      "metadata": {
        "id": "OdmT21_tXJoJ"
      },
      "execution_count": null,
      "outputs": []
    },
    {
      "cell_type": "code",
      "source": [
        "# EXPLORATORY\n",
        "\n",
        "import matplotlib.pyplot as plt\n",
        "%matplotlib inline\n",
        "plt.imshow(N)"
      ],
      "metadata": {
        "id": "ydkZgtIeY0sl"
      },
      "execution_count": null,
      "outputs": []
    },
    {
      "cell_type": "code",
      "source": [
        "# EXPLORATORY\n",
        "\n",
        "p = N[0].float()\n",
        "p = p / p.sum()\n",
        "g = torch.Generator().manual_seed(2147483647)\n",
        "itos[torch.multinomial(p, num_samples=1, replacement=True, generator=g).item()]"
      ],
      "metadata": {
        "colab": {
          "base_uri": "https://localhost:8080/",
          "height": 35
        },
        "id": "qQzMIKv8cZWH",
        "outputId": "cc0978b8-d601-4831-d228-522b4872208a"
      },
      "execution_count": null,
      "outputs": [
        {
          "output_type": "execute_result",
          "data": {
            "text/plain": [
              "'j'"
            ],
            "application/vnd.google.colaboratory.intrinsic+json": {
              "type": "string"
            }
          },
          "metadata": {},
          "execution_count": 31
        }
      ]
    },
    {
      "cell_type": "code",
      "source": [
        "P = N.float()\n",
        "P = P / P.sum(1, keepdim = True)\n",
        "\n",
        "P[1].sum()"
      ],
      "metadata": {
        "colab": {
          "base_uri": "https://localhost:8080/"
        },
        "id": "cYloMmYGMCYu",
        "outputId": "a19867cd-e347-4673-abd9-53a57b1501c2"
      },
      "execution_count": null,
      "outputs": [
        {
          "output_type": "execute_result",
          "data": {
            "text/plain": [
              "tensor(1.)"
            ]
          },
          "metadata": {},
          "execution_count": 41
        }
      ]
    },
    {
      "cell_type": "code",
      "source": [
        "ix = 0\n",
        "g = torch.Generator().manual_seed(2147483647)\n",
        "\n",
        "for i in range(20):\n",
        "  out = []\n",
        "  while True:\n",
        "    # p = N[ix].float()\n",
        "    # p = p / p.sum()\n",
        "    p = P[ix]\n",
        "\n",
        "    ix = torch.multinomial(p, num_samples=1, replacement=True, generator=g).item()\n",
        "    if ix == 0:\n",
        "      break\n",
        "    out.append(itos[ix])\n",
        "  print(''.join(out))"
      ],
      "metadata": {
        "colab": {
          "base_uri": "https://localhost:8080/"
        },
        "id": "J_hD-CsGFoVT",
        "outputId": "24b84950-9907-402b-de23-155e5a60c4b2"
      },
      "execution_count": null,
      "outputs": [
        {
          "output_type": "stream",
          "name": "stdout",
          "text": [
            "junide\n",
            "janasah\n",
            "p\n",
            "cony\n",
            "a\n",
            "nn\n",
            "kohin\n",
            "tolian\n",
            "juee\n",
            "ksahnaauranilevias\n",
            "dedainrwieta\n",
            "ssonielylarte\n",
            "faveumerifontume\n",
            "phynslenaruani\n",
            "core\n",
            "yaenon\n",
            "ka\n",
            "jabdinerimikimaynin\n",
            "anaasn\n",
            "ssorionsush\n"
          ]
        }
      ]
    },
    {
      "cell_type": "code",
      "source": [],
      "metadata": {
        "id": "qK5xGiOmJr7I"
      },
      "execution_count": null,
      "outputs": []
    }
  ]
}