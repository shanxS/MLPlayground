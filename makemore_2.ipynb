{
  "nbformat": 4,
  "nbformat_minor": 0,
  "metadata": {
    "colab": {
      "provenance": [],
      "authorship_tag": "ABX9TyMhpuC3/SCwNPi7CfA4ts/h",
      "include_colab_link": true
    },
    "kernelspec": {
      "name": "python3",
      "display_name": "Python 3"
    },
    "language_info": {
      "name": "python"
    }
  },
  "cells": [
    {
      "cell_type": "markdown",
      "metadata": {
        "id": "view-in-github",
        "colab_type": "text"
      },
      "source": [
        "<a href=\"https://colab.research.google.com/github/shanxS/MLPlayground/blob/main/makemore_2.ipynb\" target=\"_parent\"><img src=\"https://colab.research.google.com/assets/colab-badge.svg\" alt=\"Open In Colab\"/></a>"
      ]
    },
    {
      "cell_type": "code",
      "execution_count": 1,
      "metadata": {
        "id": "GvlajI0ihWVk"
      },
      "outputs": [],
      "source": [
        "import torch\n",
        "import torch.nn.functional as F\n",
        "import matplotlib.pyplot as plt\n",
        "%matplotlib inline\n",
        "from urllib.request import urlopen"
      ]
    },
    {
      "cell_type": "code",
      "source": [
        "words = urlopen(\"https://raw.githubusercontent.com/karpathy/makemore/master/names.txt\").read().decode('utf-8').splitlines()\n",
        "len(words)"
      ],
      "metadata": {
        "colab": {
          "base_uri": "https://localhost:8080/"
        },
        "id": "-6S2b4Xehs4H",
        "outputId": "fbab3908-7cf1-47fe-93cf-0484816b8953"
      },
      "execution_count": 2,
      "outputs": [
        {
          "output_type": "execute_result",
          "data": {
            "text/plain": [
              "32033"
            ]
          },
          "metadata": {},
          "execution_count": 2
        }
      ]
    },
    {
      "cell_type": "code",
      "source": [
        "chars = sorted(set(''.join(words)))\n",
        "stoi = {s:i+1 for i,s in enumerate(chars)}\n",
        "stoi['.'] = 0\n",
        "itos = {i:s for s,i in stoi.items()}"
      ],
      "metadata": {
        "id": "BX7z8KoQh52t"
      },
      "execution_count": 3,
      "outputs": []
    },
    {
      "cell_type": "code",
      "source": [
        "block_size = 3\n",
        "X = []\n",
        "Y = []\n",
        "\n",
        "for w in words[1:3]:\n",
        "  context = [0] * block_size\n",
        "  print(w)\n",
        "  for ch in w + '.':\n",
        "    ix = stoi[ch]\n",
        "    X.append(context)\n",
        "    Y.append(ix)\n",
        "    print(''.join(itos[i] for i in context) + ' ----> ' + ch)\n",
        "    context = context[1:] + [ix]\n",
        "\n",
        "X = torch.tensor(X)\n",
        "Y = torch.tensor(Y)"
      ],
      "metadata": {
        "colab": {
          "base_uri": "https://localhost:8080/"
        },
        "id": "R5X0UjaMiGsm",
        "outputId": "fa48c623-5815-403e-cdfc-fd886d51b40a"
      },
      "execution_count": 6,
      "outputs": [
        {
          "output_type": "stream",
          "name": "stdout",
          "text": [
            "olivia\n",
            "... ----> o\n",
            "..o ----> l\n",
            ".ol ----> i\n",
            "oli ----> v\n",
            "liv ----> i\n",
            "ivi ----> a\n",
            "via ----> .\n",
            "ava\n",
            "... ----> a\n",
            "..a ----> v\n",
            ".av ----> a\n",
            "ava ----> .\n"
          ]
        }
      ]
    },
    {
      "cell_type": "code",
      "source": [
        "X.shape, Y.shape"
      ],
      "metadata": {
        "colab": {
          "base_uri": "https://localhost:8080/"
        },
        "id": "TuSmYjOUkNrC",
        "outputId": "1c15147a-74e2-43b7-9c2b-f340f99c6b6d"
      },
      "execution_count": 7,
      "outputs": [
        {
          "output_type": "execute_result",
          "data": {
            "text/plain": [
              "(torch.Size([11, 3]), torch.Size([11]))"
            ]
          },
          "metadata": {},
          "execution_count": 7
        }
      ]
    },
    {
      "cell_type": "code",
      "source": [
        "# 1st layer\n",
        "'''\n",
        "Each input in X is of dim 1x3.\n",
        "  Each element of that input when one-hot encoded is of dim 1x27\n",
        "X one hot encoded will be (number of inputs) x 3 x 27\n",
        "\n",
        "So, 1st layer, C has to have 27 rows. We decided that we want 2 space embedding.\n",
        "Making C dim of 27x2\n",
        "'''\n",
        "C = torch.randn(27, 2) # 27 chars, 2 space embedding for each char\n",
        "'''\n",
        "one_hot_encoded(X) . C will be equivalent to lookup in C using X's value\n",
        "Each example in X will be 3 x 27 and C is 27 x 2. Result of this look up will be (number of inputs) x 3 x 2\n",
        "'''\n",
        "emb = C[X]"
      ],
      "metadata": {
        "id": "9urCvc3Mv-76"
      },
      "execution_count": 8,
      "outputs": []
    },
    {
      "cell_type": "code",
      "source": [
        "# 2nd layer\n",
        "'''\n",
        "emb from 1st layer is of dim (number of inputs) x 3 x 2\n",
        "We are going to view it as (number of inputs) x 6\n",
        "And we are just picking 100 as number of neurons in this layer\n",
        "'''\n",
        "W1 = torch.randn(6,100)\n",
        "b1 = torch.randn(100)\n",
        "\n",
        "h = torch.tanh(emb.view(-1,6) @ W1 + b1)"
      ],
      "metadata": {
        "id": "iVDR80a56a39"
      },
      "execution_count": 9,
      "outputs": []
    },
    {
      "cell_type": "code",
      "source": [
        "h.shape"
      ],
      "metadata": {
        "colab": {
          "base_uri": "https://localhost:8080/"
        },
        "id": "Ny76P1Qw6ebE",
        "outputId": "0aaf84d8-f276-42b5-befd-fe8a7f72616b"
      },
      "execution_count": 10,
      "outputs": [
        {
          "output_type": "execute_result",
          "data": {
            "text/plain": [
              "torch.Size([11, 100])"
            ]
          },
          "metadata": {},
          "execution_count": 10
        }
      ]
    },
    {
      "cell_type": "code",
      "source": [
        "h"
      ],
      "metadata": {
        "colab": {
          "base_uri": "https://localhost:8080/"
        },
        "id": "bivz_12r6hGU",
        "outputId": "69483226-09e7-4548-de5b-caff72def2b9"
      },
      "execution_count": 11,
      "outputs": [
        {
          "output_type": "execute_result",
          "data": {
            "text/plain": [
              "tensor([[ 0.7480, -0.5163, -0.8051,  ...,  0.4747,  0.0926,  0.1107],\n",
              "        [ 0.9192, -0.9960, -0.4431,  ...,  0.2078, -0.9835,  0.9872],\n",
              "        [ 0.8882, -0.9979,  0.0409,  ...,  0.7095, -0.9958,  0.9999],\n",
              "        ...,\n",
              "        [ 0.9995, -0.3632,  0.9301,  ..., -0.5259,  0.3741,  0.8977],\n",
              "        [-0.3507, -0.7942, -0.9511,  ...,  0.9885, -0.8014,  0.5362],\n",
              "        [ 0.9997, -0.5188,  0.9984,  ..., -0.8081,  0.8126,  0.8955]])"
            ]
          },
          "metadata": {},
          "execution_count": 11
        }
      ]
    },
    {
      "cell_type": "code",
      "source": [
        "# 3rd layer\n",
        "W2 = torch.randn(100,27)\n",
        "b2 = torch.randn(27)\n",
        "\n",
        "logits = h @ W2 + b2\n",
        "counts = logits.exp()\n",
        "probs = counts / counts.sum(1, keepdims = True)\n",
        "loss = -probs[torch.arange(Y.nelement()), Y].log().mean()"
      ],
      "metadata": {
        "id": "r7VWnjdg7Aaj"
      },
      "execution_count": 12,
      "outputs": []
    },
    {
      "cell_type": "code",
      "source": [
        "loss"
      ],
      "metadata": {
        "colab": {
          "base_uri": "https://localhost:8080/"
        },
        "id": "UnJnwjsG-cCz",
        "outputId": "b6e0eccc-3539-4391-ebc6-494980165f4d"
      },
      "execution_count": 13,
      "outputs": [
        {
          "output_type": "execute_result",
          "data": {
            "text/plain": [
              "tensor(18.6783)"
            ]
          },
          "metadata": {},
          "execution_count": 13
        }
      ]
    },
    {
      "cell_type": "code",
      "source": [
        "#### RE-STATING PREVIOUS CODE"
      ],
      "metadata": {
        "id": "6Yli1XP--lq7"
      },
      "execution_count": 51,
      "outputs": []
    },
    {
      "cell_type": "code",
      "source": [
        "# dataset\n",
        "block_size = 3\n",
        "X = []\n",
        "Y = []\n",
        "\n",
        "for w in words:\n",
        "  context = [0] * block_size\n",
        "  for ch in w + '.':\n",
        "    ix = stoi[ch]\n",
        "    X.append(context)\n",
        "    Y.append(ix)\n",
        "    context = context[1:] + [ix]\n",
        "\n",
        "X = torch.tensor(X)\n",
        "Y = torch.tensor(Y)\n",
        "\n",
        "g = torch.Generator().manual_seed(2147483647)\n",
        "\n",
        "# 1st layer\n",
        "C = torch.randn((27, 2), generator = g, requires_grad = True)\n",
        "\n",
        "# 2nd layer\n",
        "W1 = torch.randn((6,100), generator = g, requires_grad = True)\n",
        "b1 = torch.randn(100, generator = g, requires_grad = True)\n",
        "\n",
        "# 3rd layer\n",
        "W2 = torch.randn((100,27) , generator = g, requires_grad = True)\n",
        "b2 = torch.randn(27, generator = g, requires_grad = True)\n",
        "\n",
        "parameters = [C, W1, b1, W2, b2]\n"
      ],
      "metadata": {
        "id": "uibgHJtv_gxg"
      },
      "execution_count": 30,
      "outputs": []
    },
    {
      "cell_type": "code",
      "source": [
        "sum(p.nelement() for p in parameters )"
      ],
      "metadata": {
        "colab": {
          "base_uri": "https://localhost:8080/"
        },
        "id": "f1EP-SMxw7tx",
        "outputId": "39dd8fee-d3c0-4d8e-d403-60e3bf1c9ead"
      },
      "execution_count": 31,
      "outputs": [
        {
          "output_type": "execute_result",
          "data": {
            "text/plain": [
              "3481"
            ]
          },
          "metadata": {},
          "execution_count": 31
        }
      ]
    },
    {
      "cell_type": "code",
      "source": [
        "for _ in range(100):\n",
        "  # forward pass\n",
        "  emb = C[X]\n",
        "  h = torch.tanh(emb.view(-1,6) @ W1 + b1)\n",
        "  logits = h @ W2 + b2\n",
        "  loss = F.cross_entropy(logits, Y)\n",
        "  \n",
        "\n",
        "  # backward pass\n",
        "  for p in parameters:\n",
        "    p.grad = None\n",
        "  loss.backward()\n",
        "\n",
        "  # update\n",
        "  for p in parameters:\n",
        "    p.data += -0.1 * p.grad\n",
        "\n",
        "print(loss.item())    "
      ],
      "metadata": {
        "colab": {
          "base_uri": "https://localhost:8080/"
        },
        "id": "F9RGQcRKtLgH",
        "outputId": "70564eca-798e-4f48-8ad5-111b029c369f"
      },
      "execution_count": 33,
      "outputs": [
        {
          "output_type": "stream",
          "name": "stdout",
          "text": [
            "3.4653983116149902\n"
          ]
        }
      ]
    },
    {
      "cell_type": "code",
      "source": [],
      "metadata": {
        "colab": {
          "base_uri": "https://localhost:8080/"
        },
        "id": "DT9bnlY4sylc",
        "outputId": "4eadbfba-eab7-41b1-f870-a579a182c640"
      },
      "execution_count": 14,
      "outputs": [
        {
          "output_type": "execute_result",
          "data": {
            "text/plain": [
              "tensor(18.6783)"
            ]
          },
          "metadata": {},
          "execution_count": 14
        }
      ]
    },
    {
      "cell_type": "code",
      "source": [],
      "metadata": {
        "id": "WvUo-ThOv0xv"
      },
      "execution_count": null,
      "outputs": []
    }
  ]
}