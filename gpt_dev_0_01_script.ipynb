{
  "nbformat": 4,
  "nbformat_minor": 0,
  "metadata": {
    "colab": {
      "provenance": [],
      "authorship_tag": "ABX9TyM70Blyd0PEeeSo/nIozurB",
      "include_colab_link": true
    },
    "kernelspec": {
      "name": "python3",
      "display_name": "Python 3"
    },
    "language_info": {
      "name": "python"
    }
  },
  "cells": [
    {
      "cell_type": "markdown",
      "metadata": {
        "id": "view-in-github",
        "colab_type": "text"
      },
      "source": [
        "<a href=\"https://colab.research.google.com/github/shanxS/MLPlayground/blob/main/gpt_dev_0_01_script.ipynb\" target=\"_parent\"><img src=\"https://colab.research.google.com/assets/colab-badge.svg\" alt=\"Open In Colab\"/></a>"
      ]
    },
    {
      "cell_type": "markdown",
      "source": [
        "# Setup"
      ],
      "metadata": {
        "id": "crxDYvHBKHYe"
      }
    },
    {
      "cell_type": "code",
      "execution_count": 21,
      "metadata": {
        "id": "ThJiAvWp_CWq"
      },
      "outputs": [],
      "source": [
        "import torch\n",
        "import torch.nn as nn\n",
        "from torch.nn import functional as F\n",
        "\n",
        "# hyper parameters\n",
        "batch_size = 32\n",
        "block_size = 8\n",
        "max_iters = 3000\n",
        "eval_interval = 300\n",
        "learning_rate = 1e-2\n",
        "device = 'cuda' if torch.cuda.is_available() else 'cpu'\n",
        "eval_iters = 200\n",
        "#----------------\n",
        "\n",
        "torch.manual_seed(1337)\n",
        "\n",
        "#!wget https://raw.githubusercontent.com/karpathy/char-rnn/master/data/tinyshakespeare/input.txt\n",
        "with open('input.txt', 'r', encoding='utf-8') as f:\n",
        "    text = f.read()\n",
        "\n",
        "chars = sorted(list(set(''.join(text))))\n",
        "stoi = {s:i for i,s in enumerate(chars)}\n",
        "itos = {i:s for s,i in stoi.items()}\n",
        "encode = lambda s: [stoi[c] for c in s]\n",
        "decode = lambda l: ''.join([itos[i] for i in l])\n",
        "vocab_size = len(chars)\n",
        "\n",
        "data = torch.tensor(encode(text))\n",
        "n = int(0.9*len(data))\n",
        "train_data = data[:n]\n",
        "val_data = data[n:]\n",
        "\n",
        "def get_batch(split):\n",
        "  data = train_data if split == 'train' else val_data\n",
        "  ix = torch.randint(len(data)-block_size, (batch_size,))\n",
        "  x = torch.stack( [data[i: i+block_size] for i in ix] )\n",
        "  y = torch.stack( [data[i+1:i+block_size+1] for i in ix] )\n",
        "  return x, y\n",
        "\n",
        "@torch.no_grad()\n",
        "def estimate_loss():\n",
        "  out = {}\n",
        "  model.eval()\n",
        "  for split in ['train', 'val']:\n",
        "    losses = torch.zeros(eval_iters)\n",
        "    for K in range(eval_iters):\n",
        "      X, Y = get_batch(split)\n",
        "      logits, loss = model(X, Y)\n",
        "      losses[K] = loss.item()\n",
        "    out[split] = losses.mean()\n",
        "  model.train()\n",
        "  return out\n",
        "\n",
        "\n"
      ]
    },
    {
      "cell_type": "markdown",
      "source": [
        "# Bigram model"
      ],
      "metadata": {
        "id": "UBC8_DSEKO6C"
      }
    },
    {
      "cell_type": "code",
      "source": [
        "class BigramLangugageModel(nn.Module):\n",
        "\n",
        "  def __init__(self, vocab_size):\n",
        "    super().__init__()\n",
        "    '''\n",
        "    1st argument is size of dict\n",
        "    2nd argument is size of embedding for each input token\n",
        "    So the dim is vocab_size x C, where C is Channel\n",
        "    '''\n",
        "    self.token_embedding_table = nn.Embedding(vocab_size, vocab_size)\n",
        "\n",
        "  def forward(self, input, target = None):\n",
        "    '''\n",
        "    This is the output. Literally just dot product of input (B x T) and embedding table (vocab_size x channel) to get embedding\n",
        "    I think it internally converts input into one hot encoding of size (B x T x vocab_size)\n",
        "    B: number of inputs\n",
        "    T: size of each input\n",
        "    C: channel\n",
        "    '''\n",
        "    # print(input)\n",
        "    # print(target)\n",
        "    \n",
        "    logits = self.token_embedding_table(input) # (B x T x C)\n",
        "\n",
        "    if target is None:\n",
        "      loss = None\n",
        "    else:\n",
        "      B, T, C = logits.shape\n",
        "      logits = logits.view(B*T, C)\n",
        "      target = target.view(B*T)\n",
        "      loss = F.cross_entropy(logits, target)\n",
        "\n",
        "    return logits, loss\n",
        "\n",
        "  def generate(self, idx, max_new_tokens):\n",
        "    for _ in range(max_new_tokens):\n",
        "      logits, _ = self(idx)\n",
        "      logits = logits[:, -1, :] # I dont understand why last index is predicted token\n",
        "      logits = logits.exp()\n",
        "      prob = logits / logits.sum(1, keepdims = True)\n",
        "      idx_next = torch.multinomial(prob, num_samples=1, replacement=True)\n",
        "      idx = torch.cat((idx, idx_next), dim =1)\n",
        "    return idx"
      ],
      "metadata": {
        "id": "sR_H4eDdKErP"
      },
      "execution_count": 22,
      "outputs": []
    },
    {
      "cell_type": "markdown",
      "source": [
        "# Model training & eval"
      ],
      "metadata": {
        "id": "-fFYlof0MNri"
      }
    },
    {
      "cell_type": "code",
      "source": [
        "model = BigramLangugageModel(vocab_size)\n",
        "m = model.to(device)\n",
        "\n",
        "optimizer = torch.optim.AdamW(m.parameters(), learning_rate)"
      ],
      "metadata": {
        "id": "SIaL0x18_8I5"
      },
      "execution_count": 23,
      "outputs": []
    },
    {
      "cell_type": "code",
      "source": [
        "for iter in range(max_iters):\n",
        "  if iter % eval_interval == 0:\n",
        "    losses = estimate_loss()\n",
        "    print(f\"step:{iter} training loss:{losses['train']} val loss:{losses['val']}\")\n",
        "\n",
        "  xb, yb = get_batch('train')    \n",
        "  logits, loss = m(xb, yb)\n",
        "  loss.backward()\n",
        "  optimizer.step()"
      ],
      "metadata": {
        "colab": {
          "base_uri": "https://localhost:8080/"
        },
        "id": "IhR6ay9mCu3a",
        "outputId": "edf57783-441a-4669-e5b9-81ece3ac1fbc"
      },
      "execution_count": 27,
      "outputs": [
        {
          "output_type": "stream",
          "name": "stdout",
          "text": [
            "step:0 training loss:3.056396484375 val loss:3.1936521530151367\n",
            "step:300 training loss:3.04364013671875 val loss:3.1544766426086426\n",
            "step:600 training loss:3.0537619590759277 val loss:3.1870498657226562\n",
            "step:900 training loss:3.0858631134033203 val loss:3.2429065704345703\n",
            "step:1200 training loss:3.193424701690674 val loss:3.369863271713257\n",
            "step:1500 training loss:3.165262460708618 val loss:3.229585886001587\n",
            "step:1800 training loss:3.177609920501709 val loss:3.321354866027832\n",
            "step:2100 training loss:3.278136968612671 val loss:3.4377191066741943\n",
            "step:2400 training loss:3.2006475925445557 val loss:3.4026148319244385\n",
            "step:2700 training loss:3.3570079803466797 val loss:3.5171005725860596\n"
          ]
        }
      ]
    },
    {
      "cell_type": "markdown",
      "source": [
        "# Generate"
      ],
      "metadata": {
        "id": "gZgcDW5aNKqN"
      }
    },
    {
      "cell_type": "code",
      "source": [
        "context = torch.zeros((1,1), dtype = torch.long, device = device)\n",
        "print(decode(m.generate(context, max_new_tokens = 400)[0].tolist()))"
      ],
      "metadata": {
        "colab": {
          "base_uri": "https://localhost:8080/"
        },
        "id": "jGwAjSUsM711",
        "outputId": "706f077d-e68d-44f9-bb40-426dc34259b0"
      },
      "execution_count": 26,
      "outputs": [
        {
          "output_type": "stream",
          "name": "stdout",
          "text": [
            "\n",
            "Corver nereve goanoravit, cinkerin t\n",
            "Mus n weve ineverve t userar t s he!\n",
            "CK:\n",
            "Ale\n",
            "Dine a ep m:\n",
            "Doratarin.\n",
            "DWe ir imatle ts\n",
            "Awors ce g t n it, gdor d, o he hileas t th wiever no ore thorcackep th\n",
            "Foro; therimirend, is thinanimallllir evier o t nthoraviconorrithoverer hanerchous!\n",
            "Coo iat s k,\n",
            "MERERWeruse n e ndlouerd.\n",
            "An orits thir tthorp ck nyorde t orareprind, ichor whove ne eve t or serind tho t \n"
          ]
        }
      ]
    },
    {
      "cell_type": "code",
      "source": [],
      "metadata": {
        "id": "1Q2ToqnZNW4w"
      },
      "execution_count": null,
      "outputs": []
    }
  ]
}